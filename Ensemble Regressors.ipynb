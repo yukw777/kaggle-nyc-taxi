{
 "cells": [
  {
   "cell_type": "code",
   "execution_count": 1,
   "metadata": {
    "collapsed": true
   },
   "outputs": [],
   "source": [
    "# Load data\n",
    "import numpy as np\n",
    "\n",
    "data = np.load('data/cleaned_data_no_outliers.npy')\n",
    "train = data[:, :-1]\n",
    "label = data[:, -1]\n",
    "\n",
    "train_outliers = np.load('data/cleaned_train.npy')\n",
    "label_outliers = np.load('data/cleaned_label.npy')"
   ]
  },
  {
   "cell_type": "code",
   "execution_count": 2,
   "metadata": {},
   "outputs": [
    {
     "name": "stdout",
     "output_type": "stream",
     "text": [
      "[CV]  ................................................................\n",
      "[CV]  ................................................................\n",
      "[CV]  ................................................................\n",
      "[CV]  ................................................................\n",
      "[CV] ........................... , score=-131507.667282, total=  57.5s\n",
      "[CV]  ................................................................\n",
      "[CV] ........................... , score=-124852.083233, total= 1.0min\n",
      "[CV]  ................................................................\n",
      "[CV] ........................... , score=-281446.015673, total= 1.3min\n",
      "[CV]  ................................................................\n",
      "[CV] ........................... , score=-389987.219452, total= 1.5min\n",
      "[CV]  ................................................................\n",
      "[CV] ........................... , score=-128828.022962, total=  53.0s\n",
      "[CV]  ................................................................\n",
      "[CV] ........................... , score=-128045.008038, total= 1.2min\n",
      "[CV]  ................................................................\n",
      "[CV] ........................... , score=-127527.576923, total= 1.2min\n"
     ]
    },
    {
     "name": "stderr",
     "output_type": "stream",
     "text": [
      "[Parallel(n_jobs=-1)]: Done   7 out of  10 | elapsed:  2.2min remaining:   56.7s\n"
     ]
    },
    {
     "name": "stdout",
     "output_type": "stream",
     "text": [
      "[CV] ........................... , score=-121786.221228, total=  46.0s\n",
      "[CV] ........................... , score=-128635.880263, total=  39.7s\n",
      "[CV] ........................... , score=-308013.180374, total= 1.0min\n",
      "Scores: [ 624.48956713  530.51485905  353.34414277  362.63985893  357.11003476\n",
      "  357.83377152  358.92620824  348.97882633  358.65844513  554.98935159]\n",
      "Mean: 420.748506544\n",
      "Standard Deviation: 100.167768188\n"
     ]
    },
    {
     "name": "stderr",
     "output_type": "stream",
     "text": [
      "[Parallel(n_jobs=-1)]: Done  10 out of  10 | elapsed:  3.2min finished\n"
     ]
    }
   ],
   "source": [
    "# Cross-validate AdaBoost Regressor\n",
    "from model_evaluator import ModelEvaluator\n",
    "from sklearn.ensemble import AdaBoostRegressor\n",
    "\n",
    "ada_boost_eval = ModelEvaluator(AdaBoostRegressor, train, label)\n",
    "ada_boost_eval.cross_validate(verbose=3, n_jobs=-1, cv=10)\n",
    "ada_boost_eval.display_rmse_scores()"
   ]
  },
  {
   "cell_type": "code",
   "execution_count": 4,
   "metadata": {},
   "outputs": [
    {
     "name": "stdout",
     "output_type": "stream",
     "text": [
      "[CV]  ................................................................\n",
      "[CV]  ................................................................\n",
      "[CV]  ................................................................\n",
      "[CV] ............................ , score=-90397.242769, total= 3.8min\n",
      "[CV] ............................ , score=-90885.512915, total= 3.8min\n",
      "[CV] ............................ , score=-89774.353719, total= 3.8min\n",
      "Scores: [ 301.47224236  300.66134233  299.62368685]\n",
      "Mean: 300.585757178\n",
      "Standard Deviation: 0.756559850299\n"
     ]
    },
    {
     "name": "stderr",
     "output_type": "stream",
     "text": [
      "[Parallel(n_jobs=-1)]: Done   3 out of   3 | elapsed:  3.9min finished\n"
     ]
    }
   ],
   "source": [
    "# Cross-validate Gradient Boosting Regressor\n",
    "from sklearn.ensemble import GradientBoostingRegressor\n",
    "\n",
    "gradient_boost_eval = ModelEvaluator(GradientBoostingRegressor, train, label)\n",
    "gradient_boost_eval.cross_validate(verbose=3, n_jobs=-1)\n",
    "gradient_boost_eval.display_rmse_scores()"
   ]
  },
  {
   "cell_type": "code",
   "execution_count": 5,
   "metadata": {},
   "outputs": [
    {
     "name": "stdout",
     "output_type": "stream",
     "text": [
      "[CV]  ................................................................\n",
      "[CV]  ................................................................\n",
      "[CV]  ................................................................\n",
      "[CV] ............................ , score=-88035.507315, total= 2.0min\n",
      "[CV] ............................ , score=-88389.908899, total= 2.0min\n",
      "[CV] ............................ , score=-87139.142262, total= 2.0min\n",
      "Scores: [ 297.30440444  296.70778101  295.19339807]\n",
      "Mean: 296.401861174\n",
      "Standard Deviation: 0.888548324976\n"
     ]
    },
    {
     "name": "stderr",
     "output_type": "stream",
     "text": [
      "[Parallel(n_jobs=-1)]: Done   3 out of   3 | elapsed:  2.0min finished\n"
     ]
    }
   ],
   "source": [
    "# Cross-validate Random Forest Regressor\n",
    "from sklearn.ensemble import RandomForestRegressor\n",
    "\n",
    "random_forest_eval = ModelEvaluator(RandomForestRegressor, train, label)\n",
    "random_forest_eval.cross_validate(verbose=3, n_jobs=-1)\n",
    "random_forest_eval.display_rmse_scores()"
   ]
  },
  {
   "cell_type": "code",
   "execution_count": 4,
   "metadata": {},
   "outputs": [
    {
     "name": "stdout",
     "output_type": "stream",
     "text": [
      "Fitting 3 folds for each of 12 candidates, totalling 36 fits\n",
      "[CV] learning_rate=0.1, n_estimators=3 ...............................\n",
      "[CV] learning_rate=0.1, n_estimators=3 ...............................\n",
      "[CV] learning_rate=0.1, n_estimators=3 ...............................\n",
      "[CV] learning_rate=0.1, n_estimators=10 ..............................\n",
      "[CV]  learning_rate=0.1, n_estimators=3, score=-103377.562668, total=  10.5s\n",
      "[CV] learning_rate=0.1, n_estimators=10 ..............................\n",
      "[CV]  learning_rate=0.1, n_estimators=3, score=-101914.268944, total=  10.6s\n",
      "[CV] learning_rate=0.1, n_estimators=10 ..............................\n",
      "[CV]  learning_rate=0.1, n_estimators=3, score=-101709.294931, total=  10.6s\n",
      "[CV] learning_rate=0.1, n_estimators=25 ..............................\n",
      "[CV]  learning_rate=0.1, n_estimators=10, score=-102504.814235, total=  32.9s\n",
      "[CV] learning_rate=0.1, n_estimators=25 ..............................\n",
      "[CV]  learning_rate=0.1, n_estimators=10, score=-101696.315000, total=  33.9s\n",
      "[CV] learning_rate=0.1, n_estimators=25 ..............................\n",
      "[CV]  learning_rate=0.1, n_estimators=10, score=-100685.376499, total=  34.6s\n",
      "[CV] learning_rate=0.1, n_estimators=50 ..............................\n",
      "[CV]  learning_rate=0.1, n_estimators=25, score=-102492.736952, total= 1.5min\n",
      "[CV] learning_rate=0.1, n_estimators=50 ..............................\n",
      "[CV]  learning_rate=0.1, n_estimators=25, score=-101406.954073, total= 1.6min\n",
      "[CV] learning_rate=0.1, n_estimators=50 ..............................\n",
      "[CV]  learning_rate=0.1, n_estimators=25, score=-101101.575270, total= 1.6min\n",
      "[CV] learning_rate=0.5, n_estimators=3 ...............................\n",
      "[CV]  learning_rate=0.5, n_estimators=3, score=-101600.438428, total=  11.9s\n",
      "[CV] learning_rate=0.5, n_estimators=3 ...............................\n",
      "[CV]  learning_rate=0.5, n_estimators=3, score=-101223.653302, total=  11.3s\n",
      "[CV] learning_rate=0.5, n_estimators=3 ...............................\n",
      "[CV]  learning_rate=0.5, n_estimators=3, score=-100482.567511, total=  10.2s\n",
      "[CV] learning_rate=0.5, n_estimators=10 ..............................\n",
      "[CV]  learning_rate=0.5, n_estimators=10, score=-111912.513523, total=  37.7s\n",
      "[CV] learning_rate=0.5, n_estimators=10 ..............................\n",
      "[CV]  learning_rate=0.1, n_estimators=50, score=-113999.387558, total= 3.1min\n",
      "[CV] learning_rate=0.5, n_estimators=10 ..............................\n",
      "[CV]  learning_rate=0.5, n_estimators=10, score=-106528.141235, total=  37.9s\n",
      "[CV] learning_rate=0.5, n_estimators=25 ..............................\n",
      "[CV]  learning_rate=0.5, n_estimators=10, score=-107015.516540, total=  37.5s\n",
      "[CV] learning_rate=0.5, n_estimators=25 ..............................\n",
      "[CV]  learning_rate=0.1, n_estimators=50, score=-109994.765075, total= 3.1min\n",
      "[CV] learning_rate=0.5, n_estimators=25 ..............................\n",
      "[CV]  learning_rate=0.1, n_estimators=50, score=-109625.640436, total= 3.1min\n",
      "[CV] learning_rate=0.5, n_estimators=50 ..............................\n",
      "[CV]  learning_rate=0.5, n_estimators=25, score=-140069.660545, total= 1.4min\n",
      "[CV] learning_rate=0.5, n_estimators=50 ..............................\n",
      "[CV]  learning_rate=0.5, n_estimators=25, score=-121972.694685, total= 1.3min\n",
      "[CV] learning_rate=0.5, n_estimators=50 ..............................\n",
      "[CV]  learning_rate=0.5, n_estimators=25, score=-137302.909745, total= 1.4min\n",
      "[CV] learning_rate=1.0, n_estimators=3 ...............................\n",
      "[CV]  learning_rate=1.0, n_estimators=3, score=-103352.719497, total=  11.7s\n",
      "[CV] learning_rate=1.0, n_estimators=3 ...............................\n",
      "[CV]  learning_rate=1.0, n_estimators=3, score=-101880.612146, total=  11.9s\n",
      "[CV] learning_rate=1.0, n_estimators=3 ...............................\n",
      "[CV]  learning_rate=1.0, n_estimators=3, score=-101788.451286, total=  11.9s\n",
      "[CV] learning_rate=1.0, n_estimators=10 ..............................\n"
     ]
    },
    {
     "name": "stderr",
     "output_type": "stream",
     "text": [
      "[Parallel(n_jobs=4)]: Done  24 tasks      | elapsed:  7.0min\n"
     ]
    },
    {
     "name": "stdout",
     "output_type": "stream",
     "text": [
      "[CV]  learning_rate=0.5, n_estimators=50, score=-126442.758874, total= 1.4min\n",
      "[CV] learning_rate=1.0, n_estimators=10 ..............................\n",
      "[CV]  learning_rate=0.5, n_estimators=50, score=-119275.784593, total= 1.6min\n",
      "[CV] learning_rate=1.0, n_estimators=10 ..............................\n",
      "[CV]  learning_rate=1.0, n_estimators=10, score=-126312.712311, total=  33.8s\n",
      "[CV] learning_rate=1.0, n_estimators=25 ..............................\n",
      "[CV]  learning_rate=1.0, n_estimators=10, score=-117924.278918, total=  35.0s\n",
      "[CV] learning_rate=1.0, n_estimators=25 ..............................\n",
      "[CV]  learning_rate=1.0, n_estimators=10, score=-124386.237518, total=  34.7s\n",
      "[CV] learning_rate=1.0, n_estimators=25 ..............................\n",
      "[CV]  learning_rate=0.5, n_estimators=50, score=-552561.397526, total= 2.6min\n",
      "[CV] learning_rate=1.0, n_estimators=50 ..............................\n",
      "[CV]  learning_rate=1.0, n_estimators=25, score=-117899.277923, total=  35.1s\n",
      "[CV] learning_rate=1.0, n_estimators=50 ..............................\n",
      "[CV]  learning_rate=1.0, n_estimators=25, score=-515690.502659, total= 1.3min\n",
      "[CV] learning_rate=1.0, n_estimators=50 ..............................\n",
      "[CV]  learning_rate=1.0, n_estimators=25, score=-225597.735070, total= 1.1min\n",
      "[CV]  learning_rate=1.0, n_estimators=50, score=-118375.702966, total=  39.6s\n",
      "[CV]  learning_rate=1.0, n_estimators=50, score=-646321.923348, total= 1.4min\n",
      "[CV]  learning_rate=1.0, n_estimators=50, score=-268169.296757, total=  45.6s\n"
     ]
    },
    {
     "name": "stderr",
     "output_type": "stream",
     "text": [
      "[Parallel(n_jobs=4)]: Done  36 out of  36 | elapsed:  9.7min finished\n"
     ]
    },
    {
     "data": {
      "text/plain": [
       "{'learning_rate': 0.5, 'n_estimators': 3}"
      ]
     },
     "execution_count": 4,
     "metadata": {},
     "output_type": "execute_result"
    }
   ],
   "source": [
    "# grid search Adaboost\n",
    "\n",
    "from model_evaluator import ModelEvaluator\n",
    "from sklearn.ensemble import AdaBoostRegressor\n",
    "import numpy as np\n",
    "\n",
    "data = np.load('data/cleaned_data_no_outliers.npy')\n",
    "train = data[:, :-1]\n",
    "label = data[:, -1]\n",
    "\n",
    "ada_boost_eval = ModelEvaluator(AdaBoostRegressor, train, label)\n",
    "param_grid = [\n",
    "    {'n_estimators': [3, 10, 25, 50], 'learning_rate': [0.1, 0.5, 1.0]}\n",
    "]\n",
    "ada_boost_eval.grid_search(param_grid, verbose=3, n_jobs=4)\n",
    "ada_boost_eval.grid_search.best_params_"
   ]
  },
  {
   "cell_type": "code",
   "execution_count": 4,
   "metadata": {},
   "outputs": [
    {
     "name": "stdout",
     "output_type": "stream",
     "text": [
      "Fitting 3 folds for each of 9 candidates, totalling 27 fits\n",
      "[CV] learning_rate=0.4, n_estimators=1 ...............................\n",
      "[CV] learning_rate=0.4, n_estimators=1 ...............................\n",
      "[CV] learning_rate=0.4, n_estimators=1 ...............................\n",
      "[CV] learning_rate=0.4, n_estimators=2 ...............................\n",
      "[CV]  learning_rate=0.4, n_estimators=1, score=-103459.635712, total=   4.3s\n",
      "[CV]  learning_rate=0.4, n_estimators=1, score=-102276.394951, total=   4.2s\n",
      "[CV] learning_rate=0.4, n_estimators=2 ...............................\n",
      "[CV] learning_rate=0.4, n_estimators=2 ...............................\n",
      "[CV]  learning_rate=0.4, n_estimators=1, score=-101797.961575, total=   4.2s\n",
      "[CV] learning_rate=0.4, n_estimators=3 ...............................\n",
      "[CV]  learning_rate=0.4, n_estimators=2, score=-103459.635712, total=   7.7s\n",
      "[CV] learning_rate=0.4, n_estimators=3 ...............................\n",
      "[CV]  learning_rate=0.4, n_estimators=2, score=-102154.349200, total=   7.2s\n",
      "[CV] learning_rate=0.4, n_estimators=3 ...............................\n",
      "[CV]  learning_rate=0.4, n_estimators=2, score=-101823.803633, total=   7.2s\n",
      "[CV] learning_rate=0.5, n_estimators=1 ...............................\n",
      "[CV]  learning_rate=0.4, n_estimators=3, score=-102295.767638, total=  10.4s\n",
      "[CV] learning_rate=0.5, n_estimators=1 ...............................\n",
      "[CV]  learning_rate=0.5, n_estimators=1, score=-103329.583809, total=   3.7s\n",
      "[CV] learning_rate=0.5, n_estimators=1 ...............................\n",
      "[CV]  learning_rate=0.5, n_estimators=1, score=-102288.986373, total=   3.8s\n",
      "[CV] learning_rate=0.5, n_estimators=2 ...............................\n",
      "[CV]  learning_rate=0.4, n_estimators=3, score=-101815.933018, total=  10.6s\n",
      "[CV] learning_rate=0.5, n_estimators=2 ...............................\n",
      "[CV]  learning_rate=0.5, n_estimators=1, score=-101882.996417, total=   3.7s\n",
      "[CV] learning_rate=0.5, n_estimators=2 ...............................\n",
      "[CV]  learning_rate=0.4, n_estimators=3, score=-101272.338086, total=  11.4s\n",
      "[CV] learning_rate=0.5, n_estimators=3 ...............................\n",
      "[CV]  learning_rate=0.5, n_estimators=2, score=-102254.139928, total=   8.2s\n",
      "[CV] learning_rate=0.5, n_estimators=3 ...............................\n",
      "[CV]  learning_rate=0.5, n_estimators=2, score=-103436.194740, total=   8.5s\n",
      "[CV] learning_rate=0.5, n_estimators=3 ...............................\n",
      "[CV]  learning_rate=0.5, n_estimators=2, score=-101864.509060, total=   8.5s\n",
      "[CV] learning_rate=0.6, n_estimators=1 ...............................\n",
      "[CV]  learning_rate=0.6, n_estimators=1, score=-103426.991613, total=   3.8s\n",
      "[CV] learning_rate=0.6, n_estimators=1 ...............................\n",
      "[CV]  learning_rate=0.5, n_estimators=3, score=-102275.559983, total=  11.6s\n",
      "[CV] learning_rate=0.6, n_estimators=1 ...............................\n",
      "[CV]  learning_rate=0.6, n_estimators=1, score=-102230.877358, total=   3.8s\n",
      "[CV] learning_rate=0.6, n_estimators=2 ...............................\n",
      "[CV]  learning_rate=0.5, n_estimators=3, score=-101798.067878, total=  11.0s\n",
      "[CV] learning_rate=0.6, n_estimators=2 ...............................\n",
      "[CV]  learning_rate=0.5, n_estimators=3, score=-100785.608022, total=  11.0s\n",
      "[CV] learning_rate=0.6, n_estimators=2 ...............................\n",
      "[CV]  learning_rate=0.6, n_estimators=1, score=-101841.849637, total=   3.8s\n",
      "[CV] learning_rate=0.6, n_estimators=3 ...............................\n",
      "[CV]  learning_rate=0.6, n_estimators=2, score=-103298.787870, total=   7.3s\n",
      "[CV] learning_rate=0.6, n_estimators=3 ...............................\n",
      "[CV]  learning_rate=0.6, n_estimators=2, score=-102321.311299, total=   7.2s\n",
      "[CV] learning_rate=0.6, n_estimators=3 ...............................\n",
      "[CV]  learning_rate=0.6, n_estimators=2, score=-101847.208471, total=   7.2s\n",
      "[CV]  learning_rate=0.6, n_estimators=3, score=-101703.335267, total=   9.9s\n",
      "[CV]  learning_rate=0.6, n_estimators=3, score=-101277.582972, total=   8.3s\n",
      "[CV]  learning_rate=0.6, n_estimators=3, score=-100963.898297, total=   7.3s\n"
     ]
    },
    {
     "name": "stderr",
     "output_type": "stream",
     "text": [
      "[Parallel(n_jobs=4)]: Done  27 out of  27 | elapsed:   54.5s finished\n"
     ]
    },
    {
     "data": {
      "text/plain": [
       "{'learning_rate': 0.6, 'n_estimators': 3}"
      ]
     },
     "execution_count": 4,
     "metadata": {},
     "output_type": "execute_result"
    }
   ],
   "source": [
    "from model_evaluator import ModelEvaluator\n",
    "from sklearn.ensemble import AdaBoostRegressor\n",
    "import numpy as np\n",
    "\n",
    "data = np.load('data/cleaned_data_no_outliers.npy')\n",
    "train = data[:, :-1]\n",
    "label = data[:, -1]\n",
    "\n",
    "ada_boost_eval = ModelEvaluator(AdaBoostRegressor, train, label)\n",
    "\n",
    "param_grid = [\n",
    "    {'n_estimators': [1, 2, 3], 'learning_rate': [0.4, 0.5, 0.6]}\n",
    "]\n",
    "ada_boost_eval.grid_search(param_grid, verbose=3, n_jobs=4)\n",
    "ada_boost_eval.grid_search_cv.best_params_"
   ]
  },
  {
   "cell_type": "code",
   "execution_count": 5,
   "metadata": {},
   "outputs": [
    {
     "name": "stdout",
     "output_type": "stream",
     "text": [
      "27341504.1033\n",
      "8.56195820125\n"
     ]
    }
   ],
   "source": [
    "# evaluate the best adaboost model\n",
    "\n",
    "from sklearn.metrics import mean_squared_error\n",
    "\n",
    "train = np.load('data/cleaned_train.npy')\n",
    "label = np.load('data/cleaned_label.npy')\n",
    "predictions = ada_boost_eval.grid_search_cv.best_estimator_.predict(train)\n",
    "lin_mse = mean_squared_error(label, predictions)\n",
    "lin_rmse = np.sqrt(lin_mse)\n",
    "lin_rmsle = np.log(lin_rmse)\n",
    "\n",
    "print(lin_mse)\n",
    "print(lin_rmsle)"
   ]
  },
  {
   "cell_type": "code",
   "execution_count": 6,
   "metadata": {},
   "outputs": [
    {
     "data": {
      "text/plain": [
       "['models/ada_boost.pkl']"
      ]
     },
     "execution_count": 6,
     "metadata": {},
     "output_type": "execute_result"
    }
   ],
   "source": [
    "# save the best ada boost model\n",
    "from sklearn.externals import joblib\n",
    "joblib.dump(ada_boost_eval.grid_search_cv.best_estimator_, 'models/ada_boost.pkl')"
   ]
  },
  {
   "cell_type": "code",
   "execution_count": 1,
   "metadata": {},
   "outputs": [
    {
     "name": "stdout",
     "output_type": "stream",
     "text": [
      "Fitting 3 folds for each of 9 candidates, totalling 27 fits\n",
      "[CV] learning_rate=0.4, n_estimators=1 ...............................\n",
      "[CV] learning_rate=0.4, n_estimators=1 ...............................\n",
      "[CV] learning_rate=0.4, n_estimators=1 ...............................\n",
      "[CV] learning_rate=0.4, n_estimators=2 ...............................\n",
      "[CV]  learning_rate=0.4, n_estimators=1, score=-129302.267318, total=   4.1s\n",
      "[CV]  learning_rate=0.4, n_estimators=1, score=-128277.023677, total=   4.0s\n",
      "[CV] learning_rate=0.4, n_estimators=2 ...............................\n",
      "[CV] learning_rate=0.4, n_estimators=2 ...............................\n",
      "[CV]  learning_rate=0.4, n_estimators=1, score=-127327.074148, total=   4.2s\n",
      "[CV] learning_rate=0.4, n_estimators=3 ...............................\n",
      "[CV]  learning_rate=0.4, n_estimators=2, score=-111371.153026, total=   7.0s\n",
      "[CV] learning_rate=0.4, n_estimators=3 ...............................\n",
      "[CV]  learning_rate=0.4, n_estimators=2, score=-109610.920065, total=   6.8s\n",
      "[CV]  learning_rate=0.4, n_estimators=2, score=-110275.885011, total=   6.8s\n",
      "[CV] learning_rate=0.4, n_estimators=3 ...............................\n",
      "[CV] learning_rate=0.5, n_estimators=1 ...............................\n",
      "[CV]  learning_rate=0.4, n_estimators=3, score=-103959.121023, total=   9.2s\n",
      "[CV] learning_rate=0.5, n_estimators=1 ...............................\n",
      "[CV]  learning_rate=0.5, n_estimators=1, score=-121395.650979, total=   3.9s\n",
      "[CV] learning_rate=0.5, n_estimators=1 ...............................\n",
      "[CV]  learning_rate=0.4, n_estimators=3, score=-102914.117639, total=   9.3s\n",
      "[CV] learning_rate=0.5, n_estimators=2 ...............................\n",
      "[CV]  learning_rate=0.5, n_estimators=1, score=-120339.261351, total=   4.2s\n",
      "[CV] learning_rate=0.5, n_estimators=2 ...............................\n",
      "[CV]  learning_rate=0.5, n_estimators=1, score=-119478.039299, total=   4.1s\n",
      "[CV] learning_rate=0.5, n_estimators=2 ...............................\n",
      "[CV]  learning_rate=0.4, n_estimators=3, score=-102201.263774, total=   9.4s\n",
      "[CV] learning_rate=0.5, n_estimators=3 ...............................\n",
      "[CV]  learning_rate=0.5, n_estimators=2, score=-105889.798044, total=   6.9s\n",
      "[CV] learning_rate=0.5, n_estimators=3 ...............................\n",
      "[CV]  learning_rate=0.5, n_estimators=2, score=-104788.971300, total=   6.9s\n",
      "[CV] learning_rate=0.5, n_estimators=3 ...............................\n",
      "[CV]  learning_rate=0.5, n_estimators=2, score=-104232.708098, total=   6.8s\n",
      "[CV] learning_rate=0.6, n_estimators=1 ...............................\n",
      "[CV]  learning_rate=0.5, n_estimators=3, score=-101108.847745, total=   9.4s\n",
      "[CV] learning_rate=0.6, n_estimators=1 ...............................\n",
      "[CV]  learning_rate=0.6, n_estimators=1, score=-114921.607319, total=   4.3s\n",
      "[CV] learning_rate=0.6, n_estimators=1 ...............................\n",
      "[CV]  learning_rate=0.5, n_estimators=3, score=-100076.579115, total=  10.0s\n",
      "[CV] learning_rate=0.6, n_estimators=2 ...............................\n",
      "[CV]  learning_rate=0.6, n_estimators=1, score=-113839.017243, total=   4.5s\n",
      "[CV] learning_rate=0.6, n_estimators=2 ...............................\n",
      "[CV]  learning_rate=0.6, n_estimators=1, score=-113069.078569, total=   4.2s\n",
      "[CV] learning_rate=0.6, n_estimators=2 ...............................\n",
      "[CV]  learning_rate=0.5, n_estimators=3, score=-99507.757139, total=  10.0s\n",
      "[CV] learning_rate=0.6, n_estimators=3 ...............................\n",
      "[CV]  learning_rate=0.6, n_estimators=2, score=-102606.815988, total=   7.5s\n",
      "[CV] learning_rate=0.6, n_estimators=3 ...............................\n",
      "[CV]  learning_rate=0.6, n_estimators=2, score=-101425.985823, total=   7.5s\n",
      "[CV] learning_rate=0.6, n_estimators=3 ...............................\n",
      "[CV]  learning_rate=0.6, n_estimators=2, score=-100946.053353, total=   7.6s\n",
      "[CV]  learning_rate=0.6, n_estimators=3, score=-99595.157910, total=   9.3s\n",
      "[CV]  learning_rate=0.6, n_estimators=3, score=-98619.687038, total=   6.2s\n",
      "[CV]  learning_rate=0.6, n_estimators=3, score=-98073.926171, total=   5.8s\n"
     ]
    },
    {
     "name": "stderr",
     "output_type": "stream",
     "text": [
      "[Parallel(n_jobs=4)]: Done  27 out of  27 | elapsed:   48.8s finished\n"
     ]
    },
    {
     "name": "stdout",
     "output_type": "stream",
     "text": [
      "Best params: {'learning_rate': 0.6, 'n_estimators': 3}\n",
      "MSE: 27354941.9322\n",
      "RMSE: 5230.19520976\n",
      "RMSLE: 8.56220388136\n"
     ]
    }
   ],
   "source": [
    "from model_evaluator import ModelEvaluator\n",
    "from sklearn.ensemble import GradientBoostingRegressor\n",
    "import numpy as np\n",
    "\n",
    "data = np.load('data/cleaned_data_no_outliers.npy')\n",
    "train = data[:, :-1]\n",
    "label = data[:, -1]\n",
    "train_all = np.load('data/cleaned_train.npy')\n",
    "label_all = np.load('data/cleaned_label.npy')\n",
    "\n",
    "gradient_boost_eval = ModelEvaluator(GradientBoostingRegressor, train, label)\n",
    "\n",
    "param_grid = [\n",
    "    {'n_estimators': [1, 2, 3], 'learning_rate': [0.4, 0.5, 0.6]}\n",
    "]\n",
    "gradient_boost_eval.grid_search(param_grid, verbose=3, n_jobs=4)\n",
    "print('Best params:', gradient_boost_eval.grid_search_cv.best_params_)\n",
    "gradient_boost_eval.evaluate_best_estimator(train_all, label_all)\n",
    "gradient_boost_eval.display_best_estimator_eval_errors()\n",
    "gradient_boost_eval.save_best_estimator('models_gradient_boost.pkl')"
   ]
  },
  {
   "cell_type": "code",
   "execution_count": 7,
   "metadata": {},
   "outputs": [
    {
     "name": "stdout",
     "output_type": "stream",
     "text": [
      "Fitting 3 folds for each of 9 candidates, totalling 27 fits\n",
      "[CV] learning_rate=0.6, n_estimators=3 ...............................\n",
      "[CV] learning_rate=0.6, n_estimators=3 ...............................\n",
      "[CV] learning_rate=0.6, n_estimators=3 ...............................\n",
      "[CV] learning_rate=0.6, n_estimators=5 ...............................\n",
      "[CV]  learning_rate=0.6, n_estimators=3, score=-99595.157910, total=   9.7s\n",
      "[CV]  learning_rate=0.6, n_estimators=3, score=-98619.687038, total=   9.6s\n",
      "[CV] learning_rate=0.6, n_estimators=5 ...............................\n",
      "[CV] learning_rate=0.6, n_estimators=5 ...............................\n",
      "[CV]  learning_rate=0.6, n_estimators=3, score=-98073.926171, total=   9.8s\n",
      "[CV] learning_rate=0.6, n_estimators=10 ..............................\n",
      "[CV]  learning_rate=0.6, n_estimators=5, score=-97417.661276, total=  14.8s\n",
      "[CV] learning_rate=0.6, n_estimators=10 ..............................\n",
      "[CV]  learning_rate=0.6, n_estimators=5, score=-95728.418959, total=  15.3s\n",
      "[CV] learning_rate=0.6, n_estimators=10 ..............................\n",
      "[CV]  learning_rate=0.6, n_estimators=5, score=-95914.940390, total=  15.3s\n",
      "[CV] learning_rate=0.8, n_estimators=3 ...............................\n",
      "[CV]  learning_rate=0.8, n_estimators=3, score=-98530.231967, total=  10.4s\n",
      "[CV] learning_rate=0.8, n_estimators=3 ...............................\n",
      "[CV]  learning_rate=0.6, n_estimators=10, score=-94060.381469, total=  28.8s\n",
      "[CV] learning_rate=0.8, n_estimators=3 ...............................\n",
      "[CV]  learning_rate=0.6, n_estimators=10, score=-93339.151828, total=  28.6s\n",
      "[CV] learning_rate=0.8, n_estimators=5 ...............................\n",
      "[CV]  learning_rate=0.8, n_estimators=3, score=-97410.684688, total=   9.4s\n",
      "[CV] learning_rate=0.8, n_estimators=5 ...............................\n",
      "[CV]  learning_rate=0.8, n_estimators=3, score=-97123.421190, total=   9.0s\n",
      "[CV] learning_rate=0.8, n_estimators=5 ...............................\n",
      "[CV]  learning_rate=0.6, n_estimators=10, score=-92976.860624, total=  28.8s\n",
      "[CV] learning_rate=0.8, n_estimators=10 ..............................\n",
      "[CV]  learning_rate=0.8, n_estimators=5, score=-96576.298383, total=  14.9s\n",
      "[CV] learning_rate=0.8, n_estimators=10 ..............................\n",
      "[CV]  learning_rate=0.8, n_estimators=5, score=-95940.635889, total=  14.8s\n",
      "[CV] learning_rate=0.8, n_estimators=10 ..............................\n",
      "[CV]  learning_rate=0.8, n_estimators=5, score=-95135.216126, total=  14.9s\n",
      "[CV] learning_rate=1, n_estimators=3 .................................\n",
      "[CV]  learning_rate=1, n_estimators=3, score=-98438.821800, total=   9.3s\n",
      "[CV] learning_rate=1, n_estimators=3 .................................\n",
      "[CV]  learning_rate=0.8, n_estimators=10, score=-94087.612256, total=  27.2s\n",
      "[CV] learning_rate=1, n_estimators=3 .................................\n",
      "[CV]  learning_rate=1, n_estimators=3, score=-96866.890841, total=  10.4s\n",
      "[CV] learning_rate=1, n_estimators=5 .................................\n",
      "[CV]  learning_rate=0.8, n_estimators=10, score=-92581.251179, total=  28.4s\n",
      "[CV] learning_rate=1, n_estimators=5 .................................\n",
      "[CV]  learning_rate=0.8, n_estimators=10, score=-92126.728703, total=  28.6s\n",
      "[CV] learning_rate=1, n_estimators=5 .................................\n",
      "[CV]  learning_rate=1, n_estimators=3, score=-97103.305546, total=  10.3s\n",
      "[CV] learning_rate=1, n_estimators=10 ................................\n",
      "[CV]  learning_rate=1, n_estimators=5, score=-96348.380506, total=  15.4s\n",
      "[CV] learning_rate=1, n_estimators=10 ................................\n",
      "[CV]  learning_rate=1, n_estimators=5, score=-95789.351373, total=  15.3s\n",
      "[CV] learning_rate=1, n_estimators=10 ................................\n",
      "[CV]  learning_rate=1, n_estimators=5, score=-95422.083264, total=  15.4s\n",
      "[CV]  learning_rate=1, n_estimators=10, score=-94496.854537, total=  24.2s\n",
      "[CV]  learning_rate=1, n_estimators=10, score=-92064.454177, total=  21.2s\n",
      "[CV]  learning_rate=1, n_estimators=10, score=-92166.516285, total=  18.2s\n"
     ]
    },
    {
     "name": "stderr",
     "output_type": "stream",
     "text": [
      "[Parallel(n_jobs=4)]: Done  27 out of  27 | elapsed:  2.0min finished\n"
     ]
    },
    {
     "name": "stdout",
     "output_type": "stream",
     "text": [
      "Best params: {'learning_rate': 1, 'n_estimators': 10}\n",
      "MSE: 27342451.4761\n",
      "RMSE: 5229.00100173\n",
      "RMSLE: 8.56197552576\n"
     ]
    }
   ],
   "source": [
    "param_grid = [\n",
    "    {'n_estimators': [3, 5, 10], 'learning_rate': [0.6, 0.8, 1]}\n",
    "]\n",
    "gradient_boost_eval.grid_search(param_grid, verbose=3, n_jobs=4)\n",
    "print('Best params:', gradient_boost_eval.grid_search_cv.best_params_)\n",
    "gradient_boost_eval.evaluate_best_estimator(train_all, label_all)\n",
    "gradient_boost_eval.display_best_estimator_eval_errors()"
   ]
  },
  {
   "cell_type": "code",
   "execution_count": 8,
   "metadata": {},
   "outputs": [
    {
     "name": "stdout",
     "output_type": "stream",
     "text": [
      "Fitting 3 folds for each of 3 candidates, totalling 9 fits\n",
      "[CV] learning_rate=1, n_estimators=10 ................................\n",
      "[CV] learning_rate=1, n_estimators=10 ................................\n",
      "[CV] learning_rate=1, n_estimators=10 ................................\n",
      "[CV] learning_rate=1, n_estimators=30 ................................\n",
      "[CV]  learning_rate=1, n_estimators=10, score=-94496.854537, total=  31.3s\n",
      "[CV] learning_rate=1, n_estimators=30 ................................\n",
      "[CV]  learning_rate=1, n_estimators=10, score=-92064.454177, total=  33.3s\n",
      "[CV] learning_rate=1, n_estimators=30 ................................\n",
      "[CV]  learning_rate=1, n_estimators=10, score=-92166.516285, total=  33.4s\n",
      "[CV] learning_rate=1, n_estimators=50 ................................\n",
      "[CV]  learning_rate=1, n_estimators=30, score=-87693.016702, total= 1.6min\n",
      "[CV] learning_rate=1, n_estimators=50 ................................\n",
      "[CV]  learning_rate=1, n_estimators=30, score=-85877.598427, total= 1.7min\n",
      "[CV] learning_rate=1, n_estimators=50 ................................\n",
      "[CV]  learning_rate=1, n_estimators=30, score=-85756.449149, total= 1.6min\n"
     ]
    },
    {
     "name": "stderr",
     "output_type": "stream",
     "text": [
      "[Parallel(n_jobs=4)]: Done   6 out of   9 | elapsed:  2.2min remaining:  1.1min\n"
     ]
    },
    {
     "name": "stdout",
     "output_type": "stream",
     "text": [
      "[CV]  learning_rate=1, n_estimators=50, score=-83572.606244, total= 2.4min\n",
      "[CV]  learning_rate=1, n_estimators=50, score=-82439.054030, total= 1.8min\n",
      "[CV]  learning_rate=1, n_estimators=50, score=-82239.883106, total= 1.5min\n"
     ]
    },
    {
     "name": "stderr",
     "output_type": "stream",
     "text": [
      "[Parallel(n_jobs=4)]: Done   9 out of   9 | elapsed:  3.7min finished\n"
     ]
    },
    {
     "name": "stdout",
     "output_type": "stream",
     "text": [
      "Best params: {'learning_rate': 1, 'n_estimators': 50}\n",
      "MSE: 27275435.2139\n",
      "RMSE: 5222.58893786\n",
      "RMSLE: 8.56074852303\n"
     ]
    }
   ],
   "source": [
    "param_grid = [\n",
    "    {'n_estimators': [10, 30, 50], 'learning_rate': [1]}\n",
    "]\n",
    "gradient_boost_eval.grid_search(param_grid, verbose=3, n_jobs=4)\n",
    "print('Best params:', gradient_boost_eval.grid_search_cv.best_params_)\n",
    "gradient_boost_eval.evaluate_best_estimator(train_all, label_all)\n",
    "gradient_boost_eval.display_best_estimator_eval_errors()"
   ]
  },
  {
   "cell_type": "code",
   "execution_count": 9,
   "metadata": {},
   "outputs": [
    {
     "name": "stdout",
     "output_type": "stream",
     "text": [
      "Fitting 3 folds for each of 3 candidates, totalling 9 fits\n",
      "[CV] learning_rate=1, n_estimators=50 ................................\n",
      "[CV] learning_rate=1, n_estimators=50 ................................\n",
      "[CV] learning_rate=1, n_estimators=50 ................................\n",
      "[CV] learning_rate=1, n_estimators=100 ...............................\n",
      "[CV]  learning_rate=1, n_estimators=50, score=-83572.619805, total= 2.4min\n",
      "[CV] learning_rate=1, n_estimators=100 ...............................\n",
      "[CV]  learning_rate=1, n_estimators=50, score=-82439.054030, total= 2.4min\n",
      "[CV] learning_rate=1, n_estimators=100 ...............................\n",
      "[CV]  learning_rate=1, n_estimators=50, score=-82237.118581, total= 2.4min\n",
      "[CV] learning_rate=1, n_estimators=150 ...............................\n",
      "[CV]  learning_rate=1, n_estimators=100, score=-77620.234403, total= 4.6min\n",
      "[CV] learning_rate=1, n_estimators=150 ...............................\n",
      "[CV]  learning_rate=1, n_estimators=100, score=-76933.638314, total= 4.4min\n",
      "[CV] learning_rate=1, n_estimators=150 ...............................\n",
      "[CV]  learning_rate=1, n_estimators=100, score=-75649.967626, total= 4.4min\n"
     ]
    },
    {
     "name": "stderr",
     "output_type": "stream",
     "text": [
      "[Parallel(n_jobs=4)]: Done   6 out of   9 | elapsed:  6.9min remaining:  3.4min\n"
     ]
    },
    {
     "name": "stdout",
     "output_type": "stream",
     "text": [
      "[CV]  learning_rate=1, n_estimators=150, score=-73582.056577, total= 6.2min\n",
      "[CV]  learning_rate=1, n_estimators=150, score=-72702.986067, total= 5.1min\n",
      "[CV]  learning_rate=1, n_estimators=150, score=-71629.609056, total= 3.7min\n"
     ]
    },
    {
     "name": "stderr",
     "output_type": "stream",
     "text": [
      "[Parallel(n_jobs=4)]: Done   9 out of   9 | elapsed: 10.6min finished\n"
     ]
    },
    {
     "name": "stdout",
     "output_type": "stream",
     "text": [
      "Best params: {'learning_rate': 1, 'n_estimators': 150}\n",
      "MSE: 27181266.369\n",
      "RMSE: 5213.56560992\n",
      "RMSLE: 8.55901927877\n"
     ]
    }
   ],
   "source": [
    "param_grid = [\n",
    "    {'n_estimators': [50, 100, 150], 'learning_rate': [1]}\n",
    "]\n",
    "gradient_boost_eval.grid_search(param_grid, verbose=3, n_jobs=4)\n",
    "print('Best params:', gradient_boost_eval.grid_search_cv.best_params_)\n",
    "gradient_boost_eval.evaluate_best_estimator(train_all, label_all)\n",
    "gradient_boost_eval.display_best_estimator_eval_errors()"
   ]
  },
  {
   "cell_type": "code",
   "execution_count": 10,
   "metadata": {},
   "outputs": [
    {
     "name": "stdout",
     "output_type": "stream",
     "text": [
      "Fitting 3 folds for each of 3 candidates, totalling 9 fits\n",
      "[CV] learning_rate=1, n_estimators=150 ...............................\n",
      "[CV] learning_rate=1, n_estimators=150 ...............................\n",
      "[CV] learning_rate=1, n_estimators=150 ...............................\n",
      "[CV] learning_rate=1, n_estimators=300 ...............................\n",
      "[CV]  learning_rate=1, n_estimators=150, score=-73583.610199, total= 7.8min\n",
      "[CV] learning_rate=1, n_estimators=300 ...............................\n",
      "[CV]  learning_rate=1, n_estimators=150, score=-72702.986067, total= 7.9min\n",
      "[CV] learning_rate=1, n_estimators=300 ...............................\n",
      "[CV]  learning_rate=1, n_estimators=150, score=-71629.609056, total= 7.9min\n",
      "[CV] learning_rate=1, n_estimators=500 ...............................\n",
      "[CV]  learning_rate=1, n_estimators=300, score=-67579.005493, total=15.7min\n",
      "[CV] learning_rate=1, n_estimators=500 ...............................\n",
      "[CV]  learning_rate=1, n_estimators=300, score=-67103.694121, total=15.3min\n",
      "[CV] learning_rate=1, n_estimators=500 ...............................\n",
      "[CV]  learning_rate=1, n_estimators=300, score=-65994.491974, total=15.3min\n"
     ]
    },
    {
     "name": "stderr",
     "output_type": "stream",
     "text": [
      "[Parallel(n_jobs=4)]: Done   6 out of   9 | elapsed: 23.3min remaining: 11.7min\n"
     ]
    },
    {
     "ename": "KeyboardInterrupt",
     "evalue": "",
     "output_type": "error",
     "traceback": [
      "\u001b[0;31m---------------------------------------------------------------------------\u001b[0m",
      "\u001b[0;31mKeyboardInterrupt\u001b[0m                         Traceback (most recent call last)",
      "\u001b[0;32m<ipython-input-10-bbe9dd68f781>\u001b[0m in \u001b[0;36m<module>\u001b[0;34m()\u001b[0m\n\u001b[1;32m      2\u001b[0m     \u001b[0;34m{\u001b[0m\u001b[0;34m'n_estimators'\u001b[0m\u001b[0;34m:\u001b[0m \u001b[0;34m[\u001b[0m\u001b[0;36m150\u001b[0m\u001b[0;34m,\u001b[0m \u001b[0;36m300\u001b[0m\u001b[0;34m,\u001b[0m \u001b[0;36m500\u001b[0m\u001b[0;34m]\u001b[0m\u001b[0;34m,\u001b[0m \u001b[0;34m'learning_rate'\u001b[0m\u001b[0;34m:\u001b[0m \u001b[0;34m[\u001b[0m\u001b[0;36m1\u001b[0m\u001b[0;34m]\u001b[0m\u001b[0;34m}\u001b[0m\u001b[0;34m\u001b[0m\u001b[0m\n\u001b[1;32m      3\u001b[0m ]\n\u001b[0;32m----> 4\u001b[0;31m \u001b[0mgradient_boost_eval\u001b[0m\u001b[0;34m.\u001b[0m\u001b[0mgrid_search\u001b[0m\u001b[0;34m(\u001b[0m\u001b[0mparam_grid\u001b[0m\u001b[0;34m,\u001b[0m \u001b[0mverbose\u001b[0m\u001b[0;34m=\u001b[0m\u001b[0;36m3\u001b[0m\u001b[0;34m,\u001b[0m \u001b[0mn_jobs\u001b[0m\u001b[0;34m=\u001b[0m\u001b[0;36m4\u001b[0m\u001b[0;34m)\u001b[0m\u001b[0;34m\u001b[0m\u001b[0m\n\u001b[0m\u001b[1;32m      5\u001b[0m \u001b[0mprint\u001b[0m\u001b[0;34m(\u001b[0m\u001b[0;34m'Best params:'\u001b[0m\u001b[0;34m,\u001b[0m \u001b[0mgradient_boost_eval\u001b[0m\u001b[0;34m.\u001b[0m\u001b[0mgrid_search_cv\u001b[0m\u001b[0;34m.\u001b[0m\u001b[0mbest_params_\u001b[0m\u001b[0;34m)\u001b[0m\u001b[0;34m\u001b[0m\u001b[0m\n\u001b[1;32m      6\u001b[0m \u001b[0mgradient_boost_eval\u001b[0m\u001b[0;34m.\u001b[0m\u001b[0mevaluate_best_estimator\u001b[0m\u001b[0;34m(\u001b[0m\u001b[0mtrain_all\u001b[0m\u001b[0;34m,\u001b[0m \u001b[0mlabel_all\u001b[0m\u001b[0;34m)\u001b[0m\u001b[0;34m\u001b[0m\u001b[0m\n",
      "\u001b[0;32m~/Documents/programming/kaggle-nyc-taxi/model_evaluator.py\u001b[0m in \u001b[0;36mgrid_search\u001b[0;34m(self, param_grid, scoring, **kwargs)\u001b[0m\n\u001b[1;32m     24\u001b[0m         self.grid_search_cv = GridSearchCV(\n\u001b[1;32m     25\u001b[0m             m, param_grid, scoring=scoring, **kwargs)\n\u001b[0;32m---> 26\u001b[0;31m         \u001b[0mself\u001b[0m\u001b[0;34m.\u001b[0m\u001b[0mgrid_search_cv\u001b[0m\u001b[0;34m.\u001b[0m\u001b[0mfit\u001b[0m\u001b[0;34m(\u001b[0m\u001b[0mself\u001b[0m\u001b[0;34m.\u001b[0m\u001b[0mtrain\u001b[0m\u001b[0;34m,\u001b[0m \u001b[0mself\u001b[0m\u001b[0;34m.\u001b[0m\u001b[0mlabel\u001b[0m\u001b[0;34m)\u001b[0m\u001b[0;34m\u001b[0m\u001b[0m\n\u001b[0m\u001b[1;32m     27\u001b[0m \u001b[0;34m\u001b[0m\u001b[0m\n\u001b[1;32m     28\u001b[0m     \u001b[0;32mdef\u001b[0m \u001b[0mevaluate_best_estimator\u001b[0m\u001b[0;34m(\u001b[0m\u001b[0mself\u001b[0m\u001b[0;34m,\u001b[0m \u001b[0mtrain\u001b[0m\u001b[0;34m,\u001b[0m \u001b[0mlabel\u001b[0m\u001b[0;34m)\u001b[0m\u001b[0;34m:\u001b[0m\u001b[0;34m\u001b[0m\u001b[0m\n",
      "\u001b[0;32m~/.pyenv/versions/3.6.2/envs/kaggle-nyc-taxi-3.6.2/lib/python3.6/site-packages/sklearn/model_selection/_search.py\u001b[0m in \u001b[0;36mfit\u001b[0;34m(self, X, y, groups)\u001b[0m\n\u001b[1;32m    943\u001b[0m             \u001b[0mtrain\u001b[0m\u001b[0;34m/\u001b[0m\u001b[0mtest\u001b[0m \u001b[0mset\u001b[0m\u001b[0;34m.\u001b[0m\u001b[0;34m\u001b[0m\u001b[0m\n\u001b[1;32m    944\u001b[0m         \"\"\"\n\u001b[0;32m--> 945\u001b[0;31m         \u001b[0;32mreturn\u001b[0m \u001b[0mself\u001b[0m\u001b[0;34m.\u001b[0m\u001b[0m_fit\u001b[0m\u001b[0;34m(\u001b[0m\u001b[0mX\u001b[0m\u001b[0;34m,\u001b[0m \u001b[0my\u001b[0m\u001b[0;34m,\u001b[0m \u001b[0mgroups\u001b[0m\u001b[0;34m,\u001b[0m \u001b[0mParameterGrid\u001b[0m\u001b[0;34m(\u001b[0m\u001b[0mself\u001b[0m\u001b[0;34m.\u001b[0m\u001b[0mparam_grid\u001b[0m\u001b[0;34m)\u001b[0m\u001b[0;34m)\u001b[0m\u001b[0;34m\u001b[0m\u001b[0m\n\u001b[0m\u001b[1;32m    946\u001b[0m \u001b[0;34m\u001b[0m\u001b[0m\n\u001b[1;32m    947\u001b[0m \u001b[0;34m\u001b[0m\u001b[0m\n",
      "\u001b[0;32m~/.pyenv/versions/3.6.2/envs/kaggle-nyc-taxi-3.6.2/lib/python3.6/site-packages/sklearn/model_selection/_search.py\u001b[0m in \u001b[0;36m_fit\u001b[0;34m(self, X, y, groups, parameter_iterable)\u001b[0m\n\u001b[1;32m    562\u001b[0m                                   \u001b[0mreturn_times\u001b[0m\u001b[0;34m=\u001b[0m\u001b[0;32mTrue\u001b[0m\u001b[0;34m,\u001b[0m \u001b[0mreturn_parameters\u001b[0m\u001b[0;34m=\u001b[0m\u001b[0;32mTrue\u001b[0m\u001b[0;34m,\u001b[0m\u001b[0;34m\u001b[0m\u001b[0m\n\u001b[1;32m    563\u001b[0m                                   error_score=self.error_score)\n\u001b[0;32m--> 564\u001b[0;31m           \u001b[0;32mfor\u001b[0m \u001b[0mparameters\u001b[0m \u001b[0;32min\u001b[0m \u001b[0mparameter_iterable\u001b[0m\u001b[0;34m\u001b[0m\u001b[0m\n\u001b[0m\u001b[1;32m    565\u001b[0m           for train, test in cv_iter)\n\u001b[1;32m    566\u001b[0m \u001b[0;34m\u001b[0m\u001b[0m\n",
      "\u001b[0;32m~/.pyenv/versions/3.6.2/envs/kaggle-nyc-taxi-3.6.2/lib/python3.6/site-packages/sklearn/externals/joblib/parallel.py\u001b[0m in \u001b[0;36m__call__\u001b[0;34m(self, iterable)\u001b[0m\n\u001b[1;32m    766\u001b[0m                 \u001b[0;31m# consumption.\u001b[0m\u001b[0;34m\u001b[0m\u001b[0;34m\u001b[0m\u001b[0m\n\u001b[1;32m    767\u001b[0m                 \u001b[0mself\u001b[0m\u001b[0;34m.\u001b[0m\u001b[0m_iterating\u001b[0m \u001b[0;34m=\u001b[0m \u001b[0;32mFalse\u001b[0m\u001b[0;34m\u001b[0m\u001b[0m\n\u001b[0;32m--> 768\u001b[0;31m             \u001b[0mself\u001b[0m\u001b[0;34m.\u001b[0m\u001b[0mretrieve\u001b[0m\u001b[0;34m(\u001b[0m\u001b[0;34m)\u001b[0m\u001b[0;34m\u001b[0m\u001b[0m\n\u001b[0m\u001b[1;32m    769\u001b[0m             \u001b[0;31m# Make sure that we get a last message telling us we are done\u001b[0m\u001b[0;34m\u001b[0m\u001b[0;34m\u001b[0m\u001b[0m\n\u001b[1;32m    770\u001b[0m             \u001b[0melapsed_time\u001b[0m \u001b[0;34m=\u001b[0m \u001b[0mtime\u001b[0m\u001b[0;34m.\u001b[0m\u001b[0mtime\u001b[0m\u001b[0;34m(\u001b[0m\u001b[0;34m)\u001b[0m \u001b[0;34m-\u001b[0m \u001b[0mself\u001b[0m\u001b[0;34m.\u001b[0m\u001b[0m_start_time\u001b[0m\u001b[0;34m\u001b[0m\u001b[0m\n",
      "\u001b[0;32m~/.pyenv/versions/3.6.2/envs/kaggle-nyc-taxi-3.6.2/lib/python3.6/site-packages/sklearn/externals/joblib/parallel.py\u001b[0m in \u001b[0;36mretrieve\u001b[0;34m(self)\u001b[0m\n\u001b[1;32m    717\u001b[0m                     \u001b[0mensure_ready\u001b[0m \u001b[0;34m=\u001b[0m \u001b[0mself\u001b[0m\u001b[0;34m.\u001b[0m\u001b[0m_managed_backend\u001b[0m\u001b[0;34m\u001b[0m\u001b[0m\n\u001b[1;32m    718\u001b[0m                     \u001b[0mbackend\u001b[0m\u001b[0;34m.\u001b[0m\u001b[0mabort_everything\u001b[0m\u001b[0;34m(\u001b[0m\u001b[0mensure_ready\u001b[0m\u001b[0;34m=\u001b[0m\u001b[0mensure_ready\u001b[0m\u001b[0;34m)\u001b[0m\u001b[0;34m\u001b[0m\u001b[0m\n\u001b[0;32m--> 719\u001b[0;31m                 \u001b[0;32mraise\u001b[0m \u001b[0mexception\u001b[0m\u001b[0;34m\u001b[0m\u001b[0m\n\u001b[0m\u001b[1;32m    720\u001b[0m \u001b[0;34m\u001b[0m\u001b[0m\n\u001b[1;32m    721\u001b[0m     \u001b[0;32mdef\u001b[0m \u001b[0m__call__\u001b[0m\u001b[0;34m(\u001b[0m\u001b[0mself\u001b[0m\u001b[0;34m,\u001b[0m \u001b[0miterable\u001b[0m\u001b[0;34m)\u001b[0m\u001b[0;34m:\u001b[0m\u001b[0;34m\u001b[0m\u001b[0m\n",
      "\u001b[0;32m~/.pyenv/versions/3.6.2/envs/kaggle-nyc-taxi-3.6.2/lib/python3.6/site-packages/sklearn/externals/joblib/parallel.py\u001b[0m in \u001b[0;36mretrieve\u001b[0;34m(self)\u001b[0m\n\u001b[1;32m    680\u001b[0m                 \u001b[0;31m# check if timeout supported in backend future implementation\u001b[0m\u001b[0;34m\u001b[0m\u001b[0;34m\u001b[0m\u001b[0m\n\u001b[1;32m    681\u001b[0m                 \u001b[0;32mif\u001b[0m \u001b[0;34m'timeout'\u001b[0m \u001b[0;32min\u001b[0m \u001b[0mgetfullargspec\u001b[0m\u001b[0;34m(\u001b[0m\u001b[0mjob\u001b[0m\u001b[0;34m.\u001b[0m\u001b[0mget\u001b[0m\u001b[0;34m)\u001b[0m\u001b[0;34m.\u001b[0m\u001b[0margs\u001b[0m\u001b[0;34m:\u001b[0m\u001b[0;34m\u001b[0m\u001b[0m\n\u001b[0;32m--> 682\u001b[0;31m                     \u001b[0mself\u001b[0m\u001b[0;34m.\u001b[0m\u001b[0m_output\u001b[0m\u001b[0;34m.\u001b[0m\u001b[0mextend\u001b[0m\u001b[0;34m(\u001b[0m\u001b[0mjob\u001b[0m\u001b[0;34m.\u001b[0m\u001b[0mget\u001b[0m\u001b[0;34m(\u001b[0m\u001b[0mtimeout\u001b[0m\u001b[0;34m=\u001b[0m\u001b[0mself\u001b[0m\u001b[0;34m.\u001b[0m\u001b[0mtimeout\u001b[0m\u001b[0;34m)\u001b[0m\u001b[0;34m)\u001b[0m\u001b[0;34m\u001b[0m\u001b[0m\n\u001b[0m\u001b[1;32m    683\u001b[0m                 \u001b[0;32melse\u001b[0m\u001b[0;34m:\u001b[0m\u001b[0;34m\u001b[0m\u001b[0m\n\u001b[1;32m    684\u001b[0m                     \u001b[0mself\u001b[0m\u001b[0;34m.\u001b[0m\u001b[0m_output\u001b[0m\u001b[0;34m.\u001b[0m\u001b[0mextend\u001b[0m\u001b[0;34m(\u001b[0m\u001b[0mjob\u001b[0m\u001b[0;34m.\u001b[0m\u001b[0mget\u001b[0m\u001b[0;34m(\u001b[0m\u001b[0;34m)\u001b[0m\u001b[0;34m)\u001b[0m\u001b[0;34m\u001b[0m\u001b[0m\n",
      "\u001b[0;32m~/.pyenv/versions/3.6.2/lib/python3.6/multiprocessing/pool.py\u001b[0m in \u001b[0;36mget\u001b[0;34m(self, timeout)\u001b[0m\n\u001b[1;32m    636\u001b[0m \u001b[0;34m\u001b[0m\u001b[0m\n\u001b[1;32m    637\u001b[0m     \u001b[0;32mdef\u001b[0m \u001b[0mget\u001b[0m\u001b[0;34m(\u001b[0m\u001b[0mself\u001b[0m\u001b[0;34m,\u001b[0m \u001b[0mtimeout\u001b[0m\u001b[0;34m=\u001b[0m\u001b[0;32mNone\u001b[0m\u001b[0;34m)\u001b[0m\u001b[0;34m:\u001b[0m\u001b[0;34m\u001b[0m\u001b[0m\n\u001b[0;32m--> 638\u001b[0;31m         \u001b[0mself\u001b[0m\u001b[0;34m.\u001b[0m\u001b[0mwait\u001b[0m\u001b[0;34m(\u001b[0m\u001b[0mtimeout\u001b[0m\u001b[0;34m)\u001b[0m\u001b[0;34m\u001b[0m\u001b[0m\n\u001b[0m\u001b[1;32m    639\u001b[0m         \u001b[0;32mif\u001b[0m \u001b[0;32mnot\u001b[0m \u001b[0mself\u001b[0m\u001b[0;34m.\u001b[0m\u001b[0mready\u001b[0m\u001b[0;34m(\u001b[0m\u001b[0;34m)\u001b[0m\u001b[0;34m:\u001b[0m\u001b[0;34m\u001b[0m\u001b[0m\n\u001b[1;32m    640\u001b[0m             \u001b[0;32mraise\u001b[0m \u001b[0mTimeoutError\u001b[0m\u001b[0;34m\u001b[0m\u001b[0m\n",
      "\u001b[0;32m~/.pyenv/versions/3.6.2/lib/python3.6/multiprocessing/pool.py\u001b[0m in \u001b[0;36mwait\u001b[0;34m(self, timeout)\u001b[0m\n\u001b[1;32m    633\u001b[0m \u001b[0;34m\u001b[0m\u001b[0m\n\u001b[1;32m    634\u001b[0m     \u001b[0;32mdef\u001b[0m \u001b[0mwait\u001b[0m\u001b[0;34m(\u001b[0m\u001b[0mself\u001b[0m\u001b[0;34m,\u001b[0m \u001b[0mtimeout\u001b[0m\u001b[0;34m=\u001b[0m\u001b[0;32mNone\u001b[0m\u001b[0;34m)\u001b[0m\u001b[0;34m:\u001b[0m\u001b[0;34m\u001b[0m\u001b[0m\n\u001b[0;32m--> 635\u001b[0;31m         \u001b[0mself\u001b[0m\u001b[0;34m.\u001b[0m\u001b[0m_event\u001b[0m\u001b[0;34m.\u001b[0m\u001b[0mwait\u001b[0m\u001b[0;34m(\u001b[0m\u001b[0mtimeout\u001b[0m\u001b[0;34m)\u001b[0m\u001b[0;34m\u001b[0m\u001b[0m\n\u001b[0m\u001b[1;32m    636\u001b[0m \u001b[0;34m\u001b[0m\u001b[0m\n\u001b[1;32m    637\u001b[0m     \u001b[0;32mdef\u001b[0m \u001b[0mget\u001b[0m\u001b[0;34m(\u001b[0m\u001b[0mself\u001b[0m\u001b[0;34m,\u001b[0m \u001b[0mtimeout\u001b[0m\u001b[0;34m=\u001b[0m\u001b[0;32mNone\u001b[0m\u001b[0;34m)\u001b[0m\u001b[0;34m:\u001b[0m\u001b[0;34m\u001b[0m\u001b[0m\n",
      "\u001b[0;32m~/.pyenv/versions/3.6.2/lib/python3.6/threading.py\u001b[0m in \u001b[0;36mwait\u001b[0;34m(self, timeout)\u001b[0m\n\u001b[1;32m    549\u001b[0m             \u001b[0msignaled\u001b[0m \u001b[0;34m=\u001b[0m \u001b[0mself\u001b[0m\u001b[0;34m.\u001b[0m\u001b[0m_flag\u001b[0m\u001b[0;34m\u001b[0m\u001b[0m\n\u001b[1;32m    550\u001b[0m             \u001b[0;32mif\u001b[0m \u001b[0;32mnot\u001b[0m \u001b[0msignaled\u001b[0m\u001b[0;34m:\u001b[0m\u001b[0;34m\u001b[0m\u001b[0m\n\u001b[0;32m--> 551\u001b[0;31m                 \u001b[0msignaled\u001b[0m \u001b[0;34m=\u001b[0m \u001b[0mself\u001b[0m\u001b[0;34m.\u001b[0m\u001b[0m_cond\u001b[0m\u001b[0;34m.\u001b[0m\u001b[0mwait\u001b[0m\u001b[0;34m(\u001b[0m\u001b[0mtimeout\u001b[0m\u001b[0;34m)\u001b[0m\u001b[0;34m\u001b[0m\u001b[0m\n\u001b[0m\u001b[1;32m    552\u001b[0m             \u001b[0;32mreturn\u001b[0m \u001b[0msignaled\u001b[0m\u001b[0;34m\u001b[0m\u001b[0m\n\u001b[1;32m    553\u001b[0m \u001b[0;34m\u001b[0m\u001b[0m\n",
      "\u001b[0;32m~/.pyenv/versions/3.6.2/lib/python3.6/threading.py\u001b[0m in \u001b[0;36mwait\u001b[0;34m(self, timeout)\u001b[0m\n\u001b[1;32m    293\u001b[0m         \u001b[0;32mtry\u001b[0m\u001b[0;34m:\u001b[0m    \u001b[0;31m# restore state no matter what (e.g., KeyboardInterrupt)\u001b[0m\u001b[0;34m\u001b[0m\u001b[0m\n\u001b[1;32m    294\u001b[0m             \u001b[0;32mif\u001b[0m \u001b[0mtimeout\u001b[0m \u001b[0;32mis\u001b[0m \u001b[0;32mNone\u001b[0m\u001b[0;34m:\u001b[0m\u001b[0;34m\u001b[0m\u001b[0m\n\u001b[0;32m--> 295\u001b[0;31m                 \u001b[0mwaiter\u001b[0m\u001b[0;34m.\u001b[0m\u001b[0macquire\u001b[0m\u001b[0;34m(\u001b[0m\u001b[0;34m)\u001b[0m\u001b[0;34m\u001b[0m\u001b[0m\n\u001b[0m\u001b[1;32m    296\u001b[0m                 \u001b[0mgotit\u001b[0m \u001b[0;34m=\u001b[0m \u001b[0;32mTrue\u001b[0m\u001b[0;34m\u001b[0m\u001b[0m\n\u001b[1;32m    297\u001b[0m             \u001b[0;32melse\u001b[0m\u001b[0;34m:\u001b[0m\u001b[0;34m\u001b[0m\u001b[0m\n",
      "\u001b[0;31mKeyboardInterrupt\u001b[0m: "
     ]
    }
   ],
   "source": [
    "param_grid = [\n",
    "    {'n_estimators': [150, 300, 500], 'learning_rate': [1]}\n",
    "]\n",
    "gradient_boost_eval.grid_search(param_grid, verbose=3, n_jobs=4)\n",
    "print('Best params:', gradient_boost_eval.grid_search_cv.best_params_)\n",
    "gradient_boost_eval.evaluate_best_estimator(train_all, label_all)\n",
    "gradient_boost_eval.display_best_estimator_eval_errors()"
   ]
  },
  {
   "cell_type": "code",
   "execution_count": 13,
   "metadata": {},
   "outputs": [
    {
     "name": "stdout",
     "output_type": "stream",
     "text": [
      "Fitting 3 folds for each of 27 candidates, totalling 81 fits\n",
      "[CV] learning_rate=0.6, max_depth=3, n_estimators=3 ..................\n",
      "[CV] learning_rate=0.6, max_depth=3, n_estimators=3 ..................\n",
      "[CV] learning_rate=0.6, max_depth=3, n_estimators=3 ..................\n",
      "[CV] learning_rate=0.6, max_depth=3, n_estimators=5 ..................\n",
      "[CV] ... learning_rate=0.6, max_depth=3, n_estimators=3, total=   9.0s\n",
      "[CV] learning_rate=0.6, max_depth=3, n_estimators=5 ..................\n",
      "[CV] ... learning_rate=0.6, max_depth=3, n_estimators=3, total=   9.3s\n",
      "[CV] learning_rate=0.6, max_depth=3, n_estimators=5 ..................\n",
      "[CV] ... learning_rate=0.6, max_depth=3, n_estimators=3, total=   9.5s\n",
      "[CV] learning_rate=0.6, max_depth=3, n_estimators=10 .................\n",
      "[CV] ... learning_rate=0.6, max_depth=3, n_estimators=5, total=  14.2s\n",
      "[CV] learning_rate=0.6, max_depth=3, n_estimators=10 .................\n",
      "[CV] ... learning_rate=0.6, max_depth=3, n_estimators=5, total=  14.3s\n",
      "[CV] learning_rate=0.6, max_depth=3, n_estimators=10 .................\n",
      "[CV] ... learning_rate=0.6, max_depth=3, n_estimators=5, total=  14.2s\n",
      "[CV] learning_rate=0.6, max_depth=7, n_estimators=3 ..................\n",
      "[CV] .. learning_rate=0.6, max_depth=3, n_estimators=10, total=  26.9s\n",
      "[CV] learning_rate=0.6, max_depth=7, n_estimators=3 ..................\n",
      "[CV] .. learning_rate=0.6, max_depth=3, n_estimators=10, total=  26.8s\n",
      "[CV] learning_rate=0.6, max_depth=7, n_estimators=3 ..................\n",
      "[CV] .. learning_rate=0.6, max_depth=3, n_estimators=10, total=  27.7s\n",
      "[CV] learning_rate=0.6, max_depth=7, n_estimators=5 ..................\n",
      "[CV] ... learning_rate=0.6, max_depth=7, n_estimators=3, total=  41.1s\n",
      "[CV] learning_rate=0.6, max_depth=7, n_estimators=5 ..................\n",
      "[CV] ... learning_rate=0.6, max_depth=7, n_estimators=3, total=  43.9s\n",
      "[CV] learning_rate=0.6, max_depth=7, n_estimators=5 ..................\n",
      "[CV] ... learning_rate=0.6, max_depth=7, n_estimators=3, total=  45.3s\n",
      "[CV] learning_rate=0.6, max_depth=7, n_estimators=10 .................\n",
      "[CV] ... learning_rate=0.6, max_depth=7, n_estimators=5, total= 1.3min\n",
      "[CV] learning_rate=0.6, max_depth=7, n_estimators=10 .................\n",
      "[CV] ... learning_rate=0.6, max_depth=7, n_estimators=5, total= 1.3min\n",
      "[CV] learning_rate=0.6, max_depth=7, n_estimators=10 .................\n",
      "[CV] ... learning_rate=0.6, max_depth=7, n_estimators=5, total= 1.3min\n",
      "[CV] learning_rate=0.6, max_depth=15, n_estimators=3 .................\n",
      "[CV] .. learning_rate=0.6, max_depth=7, n_estimators=10, total= 2.5min\n",
      "[CV] learning_rate=0.6, max_depth=15, n_estimators=3 .................\n"
     ]
    },
    {
     "ename": "KeyboardInterrupt",
     "evalue": "",
     "output_type": "error",
     "traceback": [
      "\u001b[0;31m---------------------------------------------------------------------------\u001b[0m",
      "\u001b[0;31mKeyboardInterrupt\u001b[0m                         Traceback (most recent call last)",
      "\u001b[0;32m<ipython-input-13-ffaef99f3c51>\u001b[0m in \u001b[0;36m<module>\u001b[0;34m()\u001b[0m\n\u001b[1;32m      2\u001b[0m     \u001b[0;34m{\u001b[0m\u001b[0;34m'n_estimators'\u001b[0m\u001b[0;34m:\u001b[0m \u001b[0;34m[\u001b[0m\u001b[0;36m3\u001b[0m\u001b[0;34m,\u001b[0m \u001b[0;36m5\u001b[0m\u001b[0;34m,\u001b[0m \u001b[0;36m10\u001b[0m\u001b[0;34m]\u001b[0m\u001b[0;34m,\u001b[0m \u001b[0;34m'learning_rate'\u001b[0m\u001b[0;34m:\u001b[0m \u001b[0;34m[\u001b[0m\u001b[0;36m0.6\u001b[0m\u001b[0;34m,\u001b[0m \u001b[0;36m0.8\u001b[0m\u001b[0;34m,\u001b[0m \u001b[0;36m1\u001b[0m\u001b[0;34m]\u001b[0m\u001b[0;34m,\u001b[0m \u001b[0;34m'max_depth'\u001b[0m\u001b[0;34m:\u001b[0m \u001b[0;34m[\u001b[0m\u001b[0;36m3\u001b[0m\u001b[0;34m,\u001b[0m \u001b[0;36m7\u001b[0m\u001b[0;34m,\u001b[0m \u001b[0;36m15\u001b[0m\u001b[0;34m]\u001b[0m\u001b[0;34m}\u001b[0m\u001b[0;34m\u001b[0m\u001b[0m\n\u001b[1;32m      3\u001b[0m ]\n\u001b[0;32m----> 4\u001b[0;31m \u001b[0mgradient_boost_eval\u001b[0m\u001b[0;34m.\u001b[0m\u001b[0mgrid_search\u001b[0m\u001b[0;34m(\u001b[0m\u001b[0mparam_grid\u001b[0m\u001b[0;34m,\u001b[0m \u001b[0mverbose\u001b[0m\u001b[0;34m=\u001b[0m\u001b[0;36m2\u001b[0m\u001b[0;34m,\u001b[0m \u001b[0mn_jobs\u001b[0m\u001b[0;34m=\u001b[0m\u001b[0;36m4\u001b[0m\u001b[0;34m)\u001b[0m\u001b[0;34m\u001b[0m\u001b[0m\n\u001b[0m\u001b[1;32m      5\u001b[0m \u001b[0mprint\u001b[0m\u001b[0;34m(\u001b[0m\u001b[0;34m'Best params:'\u001b[0m\u001b[0;34m,\u001b[0m \u001b[0mgradient_boost_eval\u001b[0m\u001b[0;34m.\u001b[0m\u001b[0mgrid_search_cv\u001b[0m\u001b[0;34m.\u001b[0m\u001b[0mbest_params_\u001b[0m\u001b[0;34m)\u001b[0m\u001b[0;34m\u001b[0m\u001b[0m\n\u001b[1;32m      6\u001b[0m \u001b[0mgradient_boost_eval\u001b[0m\u001b[0;34m.\u001b[0m\u001b[0mevaluate_best_estimator\u001b[0m\u001b[0;34m(\u001b[0m\u001b[0mtrain_all\u001b[0m\u001b[0;34m,\u001b[0m \u001b[0mlabel_all\u001b[0m\u001b[0;34m)\u001b[0m\u001b[0;34m\u001b[0m\u001b[0m\n",
      "\u001b[0;32m~/Documents/programming/kaggle-nyc-taxi/model_evaluator.py\u001b[0m in \u001b[0;36mgrid_search\u001b[0;34m(self, param_grid, scoring, **kwargs)\u001b[0m\n\u001b[1;32m     24\u001b[0m         self.grid_search_cv = GridSearchCV(\n\u001b[1;32m     25\u001b[0m             m, param_grid, scoring=scoring, **kwargs)\n\u001b[0;32m---> 26\u001b[0;31m         \u001b[0mself\u001b[0m\u001b[0;34m.\u001b[0m\u001b[0mgrid_search_cv\u001b[0m\u001b[0;34m.\u001b[0m\u001b[0mfit\u001b[0m\u001b[0;34m(\u001b[0m\u001b[0mself\u001b[0m\u001b[0;34m.\u001b[0m\u001b[0mtrain\u001b[0m\u001b[0;34m,\u001b[0m \u001b[0mself\u001b[0m\u001b[0;34m.\u001b[0m\u001b[0mlabel\u001b[0m\u001b[0;34m)\u001b[0m\u001b[0;34m\u001b[0m\u001b[0m\n\u001b[0m\u001b[1;32m     27\u001b[0m \u001b[0;34m\u001b[0m\u001b[0m\n\u001b[1;32m     28\u001b[0m     \u001b[0;32mdef\u001b[0m \u001b[0mevaluate_best_estimator\u001b[0m\u001b[0;34m(\u001b[0m\u001b[0mself\u001b[0m\u001b[0;34m,\u001b[0m \u001b[0mtrain\u001b[0m\u001b[0;34m,\u001b[0m \u001b[0mlabel\u001b[0m\u001b[0;34m)\u001b[0m\u001b[0;34m:\u001b[0m\u001b[0;34m\u001b[0m\u001b[0m\n",
      "\u001b[0;32m~/.pyenv/versions/3.6.2/envs/kaggle-nyc-taxi-3.6.2/lib/python3.6/site-packages/sklearn/model_selection/_search.py\u001b[0m in \u001b[0;36mfit\u001b[0;34m(self, X, y, groups)\u001b[0m\n\u001b[1;32m    943\u001b[0m             \u001b[0mtrain\u001b[0m\u001b[0;34m/\u001b[0m\u001b[0mtest\u001b[0m \u001b[0mset\u001b[0m\u001b[0;34m.\u001b[0m\u001b[0;34m\u001b[0m\u001b[0m\n\u001b[1;32m    944\u001b[0m         \"\"\"\n\u001b[0;32m--> 945\u001b[0;31m         \u001b[0;32mreturn\u001b[0m \u001b[0mself\u001b[0m\u001b[0;34m.\u001b[0m\u001b[0m_fit\u001b[0m\u001b[0;34m(\u001b[0m\u001b[0mX\u001b[0m\u001b[0;34m,\u001b[0m \u001b[0my\u001b[0m\u001b[0;34m,\u001b[0m \u001b[0mgroups\u001b[0m\u001b[0;34m,\u001b[0m \u001b[0mParameterGrid\u001b[0m\u001b[0;34m(\u001b[0m\u001b[0mself\u001b[0m\u001b[0;34m.\u001b[0m\u001b[0mparam_grid\u001b[0m\u001b[0;34m)\u001b[0m\u001b[0;34m)\u001b[0m\u001b[0;34m\u001b[0m\u001b[0m\n\u001b[0m\u001b[1;32m    946\u001b[0m \u001b[0;34m\u001b[0m\u001b[0m\n\u001b[1;32m    947\u001b[0m \u001b[0;34m\u001b[0m\u001b[0m\n",
      "\u001b[0;32m~/.pyenv/versions/3.6.2/envs/kaggle-nyc-taxi-3.6.2/lib/python3.6/site-packages/sklearn/model_selection/_search.py\u001b[0m in \u001b[0;36m_fit\u001b[0;34m(self, X, y, groups, parameter_iterable)\u001b[0m\n\u001b[1;32m    562\u001b[0m                                   \u001b[0mreturn_times\u001b[0m\u001b[0;34m=\u001b[0m\u001b[0;32mTrue\u001b[0m\u001b[0;34m,\u001b[0m \u001b[0mreturn_parameters\u001b[0m\u001b[0;34m=\u001b[0m\u001b[0;32mTrue\u001b[0m\u001b[0;34m,\u001b[0m\u001b[0;34m\u001b[0m\u001b[0m\n\u001b[1;32m    563\u001b[0m                                   error_score=self.error_score)\n\u001b[0;32m--> 564\u001b[0;31m           \u001b[0;32mfor\u001b[0m \u001b[0mparameters\u001b[0m \u001b[0;32min\u001b[0m \u001b[0mparameter_iterable\u001b[0m\u001b[0;34m\u001b[0m\u001b[0m\n\u001b[0m\u001b[1;32m    565\u001b[0m           for train, test in cv_iter)\n\u001b[1;32m    566\u001b[0m \u001b[0;34m\u001b[0m\u001b[0m\n",
      "\u001b[0;32m~/.pyenv/versions/3.6.2/envs/kaggle-nyc-taxi-3.6.2/lib/python3.6/site-packages/sklearn/externals/joblib/parallel.py\u001b[0m in \u001b[0;36m__call__\u001b[0;34m(self, iterable)\u001b[0m\n\u001b[1;32m    766\u001b[0m                 \u001b[0;31m# consumption.\u001b[0m\u001b[0;34m\u001b[0m\u001b[0;34m\u001b[0m\u001b[0m\n\u001b[1;32m    767\u001b[0m                 \u001b[0mself\u001b[0m\u001b[0;34m.\u001b[0m\u001b[0m_iterating\u001b[0m \u001b[0;34m=\u001b[0m \u001b[0;32mFalse\u001b[0m\u001b[0;34m\u001b[0m\u001b[0m\n\u001b[0;32m--> 768\u001b[0;31m             \u001b[0mself\u001b[0m\u001b[0;34m.\u001b[0m\u001b[0mretrieve\u001b[0m\u001b[0;34m(\u001b[0m\u001b[0;34m)\u001b[0m\u001b[0;34m\u001b[0m\u001b[0m\n\u001b[0m\u001b[1;32m    769\u001b[0m             \u001b[0;31m# Make sure that we get a last message telling us we are done\u001b[0m\u001b[0;34m\u001b[0m\u001b[0;34m\u001b[0m\u001b[0m\n\u001b[1;32m    770\u001b[0m             \u001b[0melapsed_time\u001b[0m \u001b[0;34m=\u001b[0m \u001b[0mtime\u001b[0m\u001b[0;34m.\u001b[0m\u001b[0mtime\u001b[0m\u001b[0;34m(\u001b[0m\u001b[0;34m)\u001b[0m \u001b[0;34m-\u001b[0m \u001b[0mself\u001b[0m\u001b[0;34m.\u001b[0m\u001b[0m_start_time\u001b[0m\u001b[0;34m\u001b[0m\u001b[0m\n",
      "\u001b[0;32m~/.pyenv/versions/3.6.2/envs/kaggle-nyc-taxi-3.6.2/lib/python3.6/site-packages/sklearn/externals/joblib/parallel.py\u001b[0m in \u001b[0;36mretrieve\u001b[0;34m(self)\u001b[0m\n\u001b[1;32m    717\u001b[0m                     \u001b[0mensure_ready\u001b[0m \u001b[0;34m=\u001b[0m \u001b[0mself\u001b[0m\u001b[0;34m.\u001b[0m\u001b[0m_managed_backend\u001b[0m\u001b[0;34m\u001b[0m\u001b[0m\n\u001b[1;32m    718\u001b[0m                     \u001b[0mbackend\u001b[0m\u001b[0;34m.\u001b[0m\u001b[0mabort_everything\u001b[0m\u001b[0;34m(\u001b[0m\u001b[0mensure_ready\u001b[0m\u001b[0;34m=\u001b[0m\u001b[0mensure_ready\u001b[0m\u001b[0;34m)\u001b[0m\u001b[0;34m\u001b[0m\u001b[0m\n\u001b[0;32m--> 719\u001b[0;31m                 \u001b[0;32mraise\u001b[0m \u001b[0mexception\u001b[0m\u001b[0;34m\u001b[0m\u001b[0m\n\u001b[0m\u001b[1;32m    720\u001b[0m \u001b[0;34m\u001b[0m\u001b[0m\n\u001b[1;32m    721\u001b[0m     \u001b[0;32mdef\u001b[0m \u001b[0m__call__\u001b[0m\u001b[0;34m(\u001b[0m\u001b[0mself\u001b[0m\u001b[0;34m,\u001b[0m \u001b[0miterable\u001b[0m\u001b[0;34m)\u001b[0m\u001b[0;34m:\u001b[0m\u001b[0;34m\u001b[0m\u001b[0m\n",
      "\u001b[0;32m~/.pyenv/versions/3.6.2/envs/kaggle-nyc-taxi-3.6.2/lib/python3.6/site-packages/sklearn/externals/joblib/parallel.py\u001b[0m in \u001b[0;36mretrieve\u001b[0;34m(self)\u001b[0m\n\u001b[1;32m    680\u001b[0m                 \u001b[0;31m# check if timeout supported in backend future implementation\u001b[0m\u001b[0;34m\u001b[0m\u001b[0;34m\u001b[0m\u001b[0m\n\u001b[1;32m    681\u001b[0m                 \u001b[0;32mif\u001b[0m \u001b[0;34m'timeout'\u001b[0m \u001b[0;32min\u001b[0m \u001b[0mgetfullargspec\u001b[0m\u001b[0;34m(\u001b[0m\u001b[0mjob\u001b[0m\u001b[0;34m.\u001b[0m\u001b[0mget\u001b[0m\u001b[0;34m)\u001b[0m\u001b[0;34m.\u001b[0m\u001b[0margs\u001b[0m\u001b[0;34m:\u001b[0m\u001b[0;34m\u001b[0m\u001b[0m\n\u001b[0;32m--> 682\u001b[0;31m                     \u001b[0mself\u001b[0m\u001b[0;34m.\u001b[0m\u001b[0m_output\u001b[0m\u001b[0;34m.\u001b[0m\u001b[0mextend\u001b[0m\u001b[0;34m(\u001b[0m\u001b[0mjob\u001b[0m\u001b[0;34m.\u001b[0m\u001b[0mget\u001b[0m\u001b[0;34m(\u001b[0m\u001b[0mtimeout\u001b[0m\u001b[0;34m=\u001b[0m\u001b[0mself\u001b[0m\u001b[0;34m.\u001b[0m\u001b[0mtimeout\u001b[0m\u001b[0;34m)\u001b[0m\u001b[0;34m)\u001b[0m\u001b[0;34m\u001b[0m\u001b[0m\n\u001b[0m\u001b[1;32m    683\u001b[0m                 \u001b[0;32melse\u001b[0m\u001b[0;34m:\u001b[0m\u001b[0;34m\u001b[0m\u001b[0m\n\u001b[1;32m    684\u001b[0m                     \u001b[0mself\u001b[0m\u001b[0;34m.\u001b[0m\u001b[0m_output\u001b[0m\u001b[0;34m.\u001b[0m\u001b[0mextend\u001b[0m\u001b[0;34m(\u001b[0m\u001b[0mjob\u001b[0m\u001b[0;34m.\u001b[0m\u001b[0mget\u001b[0m\u001b[0;34m(\u001b[0m\u001b[0;34m)\u001b[0m\u001b[0;34m)\u001b[0m\u001b[0;34m\u001b[0m\u001b[0m\n",
      "\u001b[0;32m~/.pyenv/versions/3.6.2/lib/python3.6/multiprocessing/pool.py\u001b[0m in \u001b[0;36mget\u001b[0;34m(self, timeout)\u001b[0m\n\u001b[1;32m    636\u001b[0m \u001b[0;34m\u001b[0m\u001b[0m\n\u001b[1;32m    637\u001b[0m     \u001b[0;32mdef\u001b[0m \u001b[0mget\u001b[0m\u001b[0;34m(\u001b[0m\u001b[0mself\u001b[0m\u001b[0;34m,\u001b[0m \u001b[0mtimeout\u001b[0m\u001b[0;34m=\u001b[0m\u001b[0;32mNone\u001b[0m\u001b[0;34m)\u001b[0m\u001b[0;34m:\u001b[0m\u001b[0;34m\u001b[0m\u001b[0m\n\u001b[0;32m--> 638\u001b[0;31m         \u001b[0mself\u001b[0m\u001b[0;34m.\u001b[0m\u001b[0mwait\u001b[0m\u001b[0;34m(\u001b[0m\u001b[0mtimeout\u001b[0m\u001b[0;34m)\u001b[0m\u001b[0;34m\u001b[0m\u001b[0m\n\u001b[0m\u001b[1;32m    639\u001b[0m         \u001b[0;32mif\u001b[0m \u001b[0;32mnot\u001b[0m \u001b[0mself\u001b[0m\u001b[0;34m.\u001b[0m\u001b[0mready\u001b[0m\u001b[0;34m(\u001b[0m\u001b[0;34m)\u001b[0m\u001b[0;34m:\u001b[0m\u001b[0;34m\u001b[0m\u001b[0m\n\u001b[1;32m    640\u001b[0m             \u001b[0;32mraise\u001b[0m \u001b[0mTimeoutError\u001b[0m\u001b[0;34m\u001b[0m\u001b[0m\n",
      "\u001b[0;32m~/.pyenv/versions/3.6.2/lib/python3.6/multiprocessing/pool.py\u001b[0m in \u001b[0;36mwait\u001b[0;34m(self, timeout)\u001b[0m\n\u001b[1;32m    633\u001b[0m \u001b[0;34m\u001b[0m\u001b[0m\n\u001b[1;32m    634\u001b[0m     \u001b[0;32mdef\u001b[0m \u001b[0mwait\u001b[0m\u001b[0;34m(\u001b[0m\u001b[0mself\u001b[0m\u001b[0;34m,\u001b[0m \u001b[0mtimeout\u001b[0m\u001b[0;34m=\u001b[0m\u001b[0;32mNone\u001b[0m\u001b[0;34m)\u001b[0m\u001b[0;34m:\u001b[0m\u001b[0;34m\u001b[0m\u001b[0m\n\u001b[0;32m--> 635\u001b[0;31m         \u001b[0mself\u001b[0m\u001b[0;34m.\u001b[0m\u001b[0m_event\u001b[0m\u001b[0;34m.\u001b[0m\u001b[0mwait\u001b[0m\u001b[0;34m(\u001b[0m\u001b[0mtimeout\u001b[0m\u001b[0;34m)\u001b[0m\u001b[0;34m\u001b[0m\u001b[0m\n\u001b[0m\u001b[1;32m    636\u001b[0m \u001b[0;34m\u001b[0m\u001b[0m\n\u001b[1;32m    637\u001b[0m     \u001b[0;32mdef\u001b[0m \u001b[0mget\u001b[0m\u001b[0;34m(\u001b[0m\u001b[0mself\u001b[0m\u001b[0;34m,\u001b[0m \u001b[0mtimeout\u001b[0m\u001b[0;34m=\u001b[0m\u001b[0;32mNone\u001b[0m\u001b[0;34m)\u001b[0m\u001b[0;34m:\u001b[0m\u001b[0;34m\u001b[0m\u001b[0m\n",
      "\u001b[0;32m~/.pyenv/versions/3.6.2/lib/python3.6/threading.py\u001b[0m in \u001b[0;36mwait\u001b[0;34m(self, timeout)\u001b[0m\n\u001b[1;32m    549\u001b[0m             \u001b[0msignaled\u001b[0m \u001b[0;34m=\u001b[0m \u001b[0mself\u001b[0m\u001b[0;34m.\u001b[0m\u001b[0m_flag\u001b[0m\u001b[0;34m\u001b[0m\u001b[0m\n\u001b[1;32m    550\u001b[0m             \u001b[0;32mif\u001b[0m \u001b[0;32mnot\u001b[0m \u001b[0msignaled\u001b[0m\u001b[0;34m:\u001b[0m\u001b[0;34m\u001b[0m\u001b[0m\n\u001b[0;32m--> 551\u001b[0;31m                 \u001b[0msignaled\u001b[0m \u001b[0;34m=\u001b[0m \u001b[0mself\u001b[0m\u001b[0;34m.\u001b[0m\u001b[0m_cond\u001b[0m\u001b[0;34m.\u001b[0m\u001b[0mwait\u001b[0m\u001b[0;34m(\u001b[0m\u001b[0mtimeout\u001b[0m\u001b[0;34m)\u001b[0m\u001b[0;34m\u001b[0m\u001b[0m\n\u001b[0m\u001b[1;32m    552\u001b[0m             \u001b[0;32mreturn\u001b[0m \u001b[0msignaled\u001b[0m\u001b[0;34m\u001b[0m\u001b[0m\n\u001b[1;32m    553\u001b[0m \u001b[0;34m\u001b[0m\u001b[0m\n",
      "\u001b[0;32m~/.pyenv/versions/3.6.2/lib/python3.6/threading.py\u001b[0m in \u001b[0;36mwait\u001b[0;34m(self, timeout)\u001b[0m\n\u001b[1;32m    293\u001b[0m         \u001b[0;32mtry\u001b[0m\u001b[0;34m:\u001b[0m    \u001b[0;31m# restore state no matter what (e.g., KeyboardInterrupt)\u001b[0m\u001b[0;34m\u001b[0m\u001b[0m\n\u001b[1;32m    294\u001b[0m             \u001b[0;32mif\u001b[0m \u001b[0mtimeout\u001b[0m \u001b[0;32mis\u001b[0m \u001b[0;32mNone\u001b[0m\u001b[0;34m:\u001b[0m\u001b[0;34m\u001b[0m\u001b[0m\n\u001b[0;32m--> 295\u001b[0;31m                 \u001b[0mwaiter\u001b[0m\u001b[0;34m.\u001b[0m\u001b[0macquire\u001b[0m\u001b[0;34m(\u001b[0m\u001b[0;34m)\u001b[0m\u001b[0;34m\u001b[0m\u001b[0m\n\u001b[0m\u001b[1;32m    296\u001b[0m                 \u001b[0mgotit\u001b[0m \u001b[0;34m=\u001b[0m \u001b[0;32mTrue\u001b[0m\u001b[0;34m\u001b[0m\u001b[0m\n\u001b[1;32m    297\u001b[0m             \u001b[0;32melse\u001b[0m\u001b[0;34m:\u001b[0m\u001b[0;34m\u001b[0m\u001b[0m\n",
      "\u001b[0;31mKeyboardInterrupt\u001b[0m: "
     ]
    }
   ],
   "source": [
    "param_grid = [\n",
    "    {'n_estimators': [3, 5, 10], 'learning_rate': [0.6, 0.8, 1], 'max_depth': [3, 7, 15]}\n",
    "]\n",
    "gradient_boost_eval.grid_search(param_grid, verbose=2, n_jobs=4)\n",
    "print('Best params:', gradient_boost_eval.grid_search_cv.best_params_)\n",
    "gradient_boost_eval.evaluate_best_estimator(train_all, label_all)\n",
    "gradient_boost_eval.display_best_estimator_eval_errors()"
   ]
  },
  {
   "cell_type": "code",
   "execution_count": null,
   "metadata": {
    "collapsed": true
   },
   "outputs": [],
   "source": []
  }
 ],
 "metadata": {
  "kernelspec": {
   "display_name": "Python 3",
   "language": "python",
   "name": "python3"
  },
  "language_info": {
   "codemirror_mode": {
    "name": "ipython",
    "version": 3
   },
   "file_extension": ".py",
   "mimetype": "text/x-python",
   "name": "python",
   "nbconvert_exporter": "python",
   "pygments_lexer": "ipython3",
   "version": "3.6.2"
  }
 },
 "nbformat": 4,
 "nbformat_minor": 2
}
