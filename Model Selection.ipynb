{
 "cells": [
  {
   "cell_type": "code",
   "execution_count": 9,
   "metadata": {
    "collapsed": true
   },
   "outputs": [],
   "source": [
    "import pandas as pd\n",
    "import data_cleaning\n",
    "\n",
    "time_attrs = [\n",
    "    'pickup_datetime',\n",
    "    'dropoff_datetime',\n",
    "]\n",
    "\n",
    "taxi = pd.read_csv('data/train.csv', parse_dates=time_attrs)\n",
    "taxi_cleaned = data_cleaning.pipeline.fit_transform(taxi)\n",
    "taxi_labels = taxi['trip_duration'].copy()\n",
    "taxi_cleaned_pd = pd.DataFrame({\n",
    "    'pickup_datetime': taxi_cleaned[:, 0],\n",
    "    'dropoff_datetime': taxi_cleaned[:, 1],\n",
    "    'passenger_count': taxi_cleaned[:, 2],\n",
    "    'pickup_longitude': taxi_cleaned[:, 3],\n",
    "    'pickup_latitude': taxi_cleaned[:, 4],\n",
    "    'dropoff_longitude': taxi_cleaned[:, 5],\n",
    "    'dropoff_latitude': taxi_cleaned[:, 6],\n",
    "    'distance': taxi_cleaned[:, 7],    \n",
    "})"
   ]
  },
  {
   "cell_type": "code",
   "execution_count": 10,
   "metadata": {},
   "outputs": [
    {
     "data": {
      "text/html": [
       "<div>\n",
       "<style>\n",
       "    .dataframe thead tr:only-child th {\n",
       "        text-align: right;\n",
       "    }\n",
       "\n",
       "    .dataframe thead th {\n",
       "        text-align: left;\n",
       "    }\n",
       "\n",
       "    .dataframe tbody tr th {\n",
       "        vertical-align: top;\n",
       "    }\n",
       "</style>\n",
       "<table border=\"1\" class=\"dataframe\">\n",
       "  <thead>\n",
       "    <tr style=\"text-align: right;\">\n",
       "      <th></th>\n",
       "      <th>distance</th>\n",
       "      <th>dropoff_datetime</th>\n",
       "      <th>dropoff_latitude</th>\n",
       "      <th>dropoff_longitude</th>\n",
       "      <th>passenger_count</th>\n",
       "      <th>pickup_datetime</th>\n",
       "      <th>pickup_latitude</th>\n",
       "      <th>pickup_longitude</th>\n",
       "    </tr>\n",
       "  </thead>\n",
       "  <tbody>\n",
       "    <tr>\n",
       "      <th>count</th>\n",
       "      <td>1.458644e+06</td>\n",
       "      <td>1.458644e+06</td>\n",
       "      <td>1.458644e+06</td>\n",
       "      <td>1.458644e+06</td>\n",
       "      <td>1.458644e+06</td>\n",
       "      <td>1.458644e+06</td>\n",
       "      <td>1.458644e+06</td>\n",
       "      <td>1.458644e+06</td>\n",
       "    </tr>\n",
       "    <tr>\n",
       "      <th>mean</th>\n",
       "      <td>1.107602e-17</td>\n",
       "      <td>-1.205094e-14</td>\n",
       "      <td>1.014493e-13</td>\n",
       "      <td>3.885016e-14</td>\n",
       "      <td>-6.459772e-17</td>\n",
       "      <td>-2.639530e-14</td>\n",
       "      <td>3.492914e-15</td>\n",
       "      <td>-3.314967e-14</td>\n",
       "    </tr>\n",
       "    <tr>\n",
       "      <th>std</th>\n",
       "      <td>1.000000e+00</td>\n",
       "      <td>1.000000e+00</td>\n",
       "      <td>1.000000e+00</td>\n",
       "      <td>1.000000e+00</td>\n",
       "      <td>1.000000e+00</td>\n",
       "      <td>1.000000e+00</td>\n",
       "      <td>1.000000e+00</td>\n",
       "      <td>1.000000e+00</td>\n",
       "    </tr>\n",
       "    <tr>\n",
       "      <th>min</th>\n",
       "      <td>-8.008460e-01</td>\n",
       "      <td>-1.773205e+00</td>\n",
       "      <td>-2.387999e+02</td>\n",
       "      <td>-6.789027e+02</td>\n",
       "      <td>-1.266532e+00</td>\n",
       "      <td>-1.773048e+00</td>\n",
       "      <td>-1.943734e+02</td>\n",
       "      <td>-6.764262e+02</td>\n",
       "    </tr>\n",
       "    <tr>\n",
       "      <th>25%</th>\n",
       "      <td>-5.141414e-01</td>\n",
       "      <td>-8.476855e-01</td>\n",
       "      <td>-4.434273e-01</td>\n",
       "      <td>-2.535194e-01</td>\n",
       "      <td>-5.056372e-01</td>\n",
       "      <td>-8.477397e-01</td>\n",
       "      <td>-4.128277e-01</td>\n",
       "      <td>-2.592424e-01</td>\n",
       "    </tr>\n",
       "    <tr>\n",
       "      <th>50%</th>\n",
       "      <td>-3.135425e-01</td>\n",
       "      <td>5.459914e-03</td>\n",
       "      <td>7.591738e-02</td>\n",
       "      <td>-8.968501e-02</td>\n",
       "      <td>-5.056372e-01</td>\n",
       "      <td>5.466079e-03</td>\n",
       "      <td>9.670856e-02</td>\n",
       "      <td>-1.164505e-01</td>\n",
       "    </tr>\n",
       "    <tr>\n",
       "      <th>75%</th>\n",
       "      <td>1.011218e-01</td>\n",
       "      <td>8.481785e-01</td>\n",
       "      <td>5.018093e-01</td>\n",
       "      <td>1.472646e-01</td>\n",
       "      <td>2.552578e-01</td>\n",
       "      <td>8.482028e-01</td>\n",
       "      <td>5.303712e-01</td>\n",
       "      <td>8.681542e-02</td>\n",
       "    </tr>\n",
       "    <tr>\n",
       "      <th>max</th>\n",
       "      <td>2.880152e+02</td>\n",
       "      <td>1.775168e+00</td>\n",
       "      <td>8.830261e+01</td>\n",
       "      <td>1.788973e+02</td>\n",
       "      <td>5.581523e+00</td>\n",
       "      <td>1.756776e+00</td>\n",
       "      <td>3.384965e+02</td>\n",
       "      <td>1.782458e+02</td>\n",
       "    </tr>\n",
       "  </tbody>\n",
       "</table>\n",
       "</div>"
      ],
      "text/plain": [
       "           distance  dropoff_datetime  dropoff_latitude  dropoff_longitude  \\\n",
       "count  1.458644e+06      1.458644e+06      1.458644e+06       1.458644e+06   \n",
       "mean   1.107602e-17     -1.205094e-14      1.014493e-13       3.885016e-14   \n",
       "std    1.000000e+00      1.000000e+00      1.000000e+00       1.000000e+00   \n",
       "min   -8.008460e-01     -1.773205e+00     -2.387999e+02      -6.789027e+02   \n",
       "25%   -5.141414e-01     -8.476855e-01     -4.434273e-01      -2.535194e-01   \n",
       "50%   -3.135425e-01      5.459914e-03      7.591738e-02      -8.968501e-02   \n",
       "75%    1.011218e-01      8.481785e-01      5.018093e-01       1.472646e-01   \n",
       "max    2.880152e+02      1.775168e+00      8.830261e+01       1.788973e+02   \n",
       "\n",
       "       passenger_count  pickup_datetime  pickup_latitude  pickup_longitude  \n",
       "count     1.458644e+06     1.458644e+06     1.458644e+06      1.458644e+06  \n",
       "mean     -6.459772e-17    -2.639530e-14     3.492914e-15     -3.314967e-14  \n",
       "std       1.000000e+00     1.000000e+00     1.000000e+00      1.000000e+00  \n",
       "min      -1.266532e+00    -1.773048e+00    -1.943734e+02     -6.764262e+02  \n",
       "25%      -5.056372e-01    -8.477397e-01    -4.128277e-01     -2.592424e-01  \n",
       "50%      -5.056372e-01     5.466079e-03     9.670856e-02     -1.164505e-01  \n",
       "75%       2.552578e-01     8.482028e-01     5.303712e-01      8.681542e-02  \n",
       "max       5.581523e+00     1.756776e+00     3.384965e+02      1.782458e+02  "
      ]
     },
     "execution_count": 10,
     "metadata": {},
     "output_type": "execute_result"
    }
   ],
   "source": [
    "taxi_cleaned_pd.describe()"
   ]
  },
  {
   "cell_type": "code",
   "execution_count": 11,
   "metadata": {
    "collapsed": true
   },
   "outputs": [],
   "source": [
    "taxi_cleaned_pd_label = taxi_cleaned_pd.copy()\n",
    "taxi_cleaned_pd_label['trip_duration'] = taxi['trip_duration']"
   ]
  },
  {
   "cell_type": "code",
   "execution_count": 12,
   "metadata": {},
   "outputs": [
    {
     "data": {
      "text/html": [
       "<div>\n",
       "<style>\n",
       "    .dataframe thead tr:only-child th {\n",
       "        text-align: right;\n",
       "    }\n",
       "\n",
       "    .dataframe thead th {\n",
       "        text-align: left;\n",
       "    }\n",
       "\n",
       "    .dataframe tbody tr th {\n",
       "        vertical-align: top;\n",
       "    }\n",
       "</style>\n",
       "<table border=\"1\" class=\"dataframe\">\n",
       "  <thead>\n",
       "    <tr style=\"text-align: right;\">\n",
       "      <th></th>\n",
       "      <th>distance</th>\n",
       "      <th>dropoff_datetime</th>\n",
       "      <th>dropoff_latitude</th>\n",
       "      <th>dropoff_longitude</th>\n",
       "      <th>passenger_count</th>\n",
       "      <th>pickup_datetime</th>\n",
       "      <th>pickup_latitude</th>\n",
       "      <th>pickup_longitude</th>\n",
       "      <th>trip_duration</th>\n",
       "    </tr>\n",
       "  </thead>\n",
       "  <tbody>\n",
       "    <tr>\n",
       "      <th>count</th>\n",
       "      <td>1.458644e+06</td>\n",
       "      <td>1.458644e+06</td>\n",
       "      <td>1.458644e+06</td>\n",
       "      <td>1.458644e+06</td>\n",
       "      <td>1.458644e+06</td>\n",
       "      <td>1.458644e+06</td>\n",
       "      <td>1.458644e+06</td>\n",
       "      <td>1.458644e+06</td>\n",
       "      <td>1.458644e+06</td>\n",
       "    </tr>\n",
       "    <tr>\n",
       "      <th>mean</th>\n",
       "      <td>1.107602e-17</td>\n",
       "      <td>-1.205094e-14</td>\n",
       "      <td>1.014493e-13</td>\n",
       "      <td>3.885016e-14</td>\n",
       "      <td>-6.459772e-17</td>\n",
       "      <td>-2.639530e-14</td>\n",
       "      <td>3.492914e-15</td>\n",
       "      <td>-3.314967e-14</td>\n",
       "      <td>9.594923e+02</td>\n",
       "    </tr>\n",
       "    <tr>\n",
       "      <th>std</th>\n",
       "      <td>1.000000e+00</td>\n",
       "      <td>1.000000e+00</td>\n",
       "      <td>1.000000e+00</td>\n",
       "      <td>1.000000e+00</td>\n",
       "      <td>1.000000e+00</td>\n",
       "      <td>1.000000e+00</td>\n",
       "      <td>1.000000e+00</td>\n",
       "      <td>1.000000e+00</td>\n",
       "      <td>5.237432e+03</td>\n",
       "    </tr>\n",
       "    <tr>\n",
       "      <th>min</th>\n",
       "      <td>-8.008460e-01</td>\n",
       "      <td>-1.773205e+00</td>\n",
       "      <td>-2.387999e+02</td>\n",
       "      <td>-6.789027e+02</td>\n",
       "      <td>-1.266532e+00</td>\n",
       "      <td>-1.773048e+00</td>\n",
       "      <td>-1.943734e+02</td>\n",
       "      <td>-6.764262e+02</td>\n",
       "      <td>1.000000e+00</td>\n",
       "    </tr>\n",
       "    <tr>\n",
       "      <th>25%</th>\n",
       "      <td>-5.141414e-01</td>\n",
       "      <td>-8.476855e-01</td>\n",
       "      <td>-4.434273e-01</td>\n",
       "      <td>-2.535194e-01</td>\n",
       "      <td>-5.056372e-01</td>\n",
       "      <td>-8.477397e-01</td>\n",
       "      <td>-4.128277e-01</td>\n",
       "      <td>-2.592424e-01</td>\n",
       "      <td>3.970000e+02</td>\n",
       "    </tr>\n",
       "    <tr>\n",
       "      <th>50%</th>\n",
       "      <td>-3.135425e-01</td>\n",
       "      <td>5.459914e-03</td>\n",
       "      <td>7.591738e-02</td>\n",
       "      <td>-8.968501e-02</td>\n",
       "      <td>-5.056372e-01</td>\n",
       "      <td>5.466079e-03</td>\n",
       "      <td>9.670856e-02</td>\n",
       "      <td>-1.164505e-01</td>\n",
       "      <td>6.620000e+02</td>\n",
       "    </tr>\n",
       "    <tr>\n",
       "      <th>75%</th>\n",
       "      <td>1.011218e-01</td>\n",
       "      <td>8.481785e-01</td>\n",
       "      <td>5.018093e-01</td>\n",
       "      <td>1.472646e-01</td>\n",
       "      <td>2.552578e-01</td>\n",
       "      <td>8.482028e-01</td>\n",
       "      <td>5.303712e-01</td>\n",
       "      <td>8.681542e-02</td>\n",
       "      <td>1.075000e+03</td>\n",
       "    </tr>\n",
       "    <tr>\n",
       "      <th>max</th>\n",
       "      <td>2.880152e+02</td>\n",
       "      <td>1.775168e+00</td>\n",
       "      <td>8.830261e+01</td>\n",
       "      <td>1.788973e+02</td>\n",
       "      <td>5.581523e+00</td>\n",
       "      <td>1.756776e+00</td>\n",
       "      <td>3.384965e+02</td>\n",
       "      <td>1.782458e+02</td>\n",
       "      <td>3.526282e+06</td>\n",
       "    </tr>\n",
       "  </tbody>\n",
       "</table>\n",
       "</div>"
      ],
      "text/plain": [
       "           distance  dropoff_datetime  dropoff_latitude  dropoff_longitude  \\\n",
       "count  1.458644e+06      1.458644e+06      1.458644e+06       1.458644e+06   \n",
       "mean   1.107602e-17     -1.205094e-14      1.014493e-13       3.885016e-14   \n",
       "std    1.000000e+00      1.000000e+00      1.000000e+00       1.000000e+00   \n",
       "min   -8.008460e-01     -1.773205e+00     -2.387999e+02      -6.789027e+02   \n",
       "25%   -5.141414e-01     -8.476855e-01     -4.434273e-01      -2.535194e-01   \n",
       "50%   -3.135425e-01      5.459914e-03      7.591738e-02      -8.968501e-02   \n",
       "75%    1.011218e-01      8.481785e-01      5.018093e-01       1.472646e-01   \n",
       "max    2.880152e+02      1.775168e+00      8.830261e+01       1.788973e+02   \n",
       "\n",
       "       passenger_count  pickup_datetime  pickup_latitude  pickup_longitude  \\\n",
       "count     1.458644e+06     1.458644e+06     1.458644e+06      1.458644e+06   \n",
       "mean     -6.459772e-17    -2.639530e-14     3.492914e-15     -3.314967e-14   \n",
       "std       1.000000e+00     1.000000e+00     1.000000e+00      1.000000e+00   \n",
       "min      -1.266532e+00    -1.773048e+00    -1.943734e+02     -6.764262e+02   \n",
       "25%      -5.056372e-01    -8.477397e-01    -4.128277e-01     -2.592424e-01   \n",
       "50%      -5.056372e-01     5.466079e-03     9.670856e-02     -1.164505e-01   \n",
       "75%       2.552578e-01     8.482028e-01     5.303712e-01      8.681542e-02   \n",
       "max       5.581523e+00     1.756776e+00     3.384965e+02      1.782458e+02   \n",
       "\n",
       "       trip_duration  \n",
       "count   1.458644e+06  \n",
       "mean    9.594923e+02  \n",
       "std     5.237432e+03  \n",
       "min     1.000000e+00  \n",
       "25%     3.970000e+02  \n",
       "50%     6.620000e+02  \n",
       "75%     1.075000e+03  \n",
       "max     3.526282e+06  "
      ]
     },
     "execution_count": 12,
     "metadata": {},
     "output_type": "execute_result"
    }
   ],
   "source": [
    "taxi_cleaned_pd_label.describe()"
   ]
  },
  {
   "cell_type": "code",
   "execution_count": 13,
   "metadata": {},
   "outputs": [
    {
     "data": {
      "text/plain": [
       "trip_duration        1.000000\n",
       "distance             0.094777\n",
       "pickup_longitude     0.026542\n",
       "dropoff_longitude    0.014678\n",
       "passenger_count      0.008471\n",
       "dropoff_datetime     0.007819\n",
       "pickup_datetime      0.006644\n",
       "dropoff_latitude    -0.020677\n",
       "pickup_latitude     -0.029204\n",
       "Name: trip_duration, dtype: float64"
      ]
     },
     "execution_count": 13,
     "metadata": {},
     "output_type": "execute_result"
    }
   ],
   "source": [
    "corr_matrix = taxi_cleaned_pd_label.corr()\n",
    "corr_matrix[\"trip_duration\"].sort_values(ascending=False)"
   ]
  },
  {
   "cell_type": "code",
   "execution_count": 17,
   "metadata": {},
   "outputs": [
    {
     "data": {
      "text/plain": [
       "0.0"
      ]
     },
     "execution_count": 17,
     "metadata": {},
     "output_type": "execute_result"
    }
   ],
   "source": [
    "from sklearn.tree import DecisionTreeRegressor\n",
    "from sklearn.ensemble import RandomForestRegressor\n",
    "from sklearn.linear_model import Lasso, ElasticNet\n",
    "from sklearn.metrics import mean_squared_error\n",
    "import numpy as np\n",
    "\n",
    "tree_reg = DecisionTreeRegressor()\n",
    "tree_reg.fit(taxi_cleaned, taxi_labels)\n",
    "tree_predictions = tree_reg.predict(taxi_cleaned)\n",
    "tree_mse = mean_squared_error(taxi_labels, tree_predictions)\n",
    "tree_rmse = np.sqrt(tree_mse)\n",
    "tree_rmse"
   ]
  },
  {
   "cell_type": "code",
   "execution_count": 18,
   "metadata": {},
   "outputs": [
    {
     "name": "stdout",
     "output_type": "stream",
     "text": [
      "Scores: [  4412.82583894   4299.74111742   6714.11620977   4208.50937834\n",
      "   7022.34362978   4438.05889609  11539.14918485   4385.91554089\n",
      "   6700.14671706   4507.71951653]\n",
      "Mean: 5822.85260297\n",
      "Standard deviation: 2197.8395301\n"
     ]
    }
   ],
   "source": [
    "from sklearn.model_selection import cross_val_score\n",
    "\n",
    "def display_scores(scores):\n",
    "    rmse_scores = np.sqrt(-scores)\n",
    "    print(\"Scores:\", rmse_scores)\n",
    "    print(\"Mean:\", rmse_scores.mean())\n",
    "    print(\"Standard deviation:\", rmse_scores.std())\n",
    "    \n",
    "tree_reg = DecisionTreeRegressor()\n",
    "tree_scores = cross_val_score(tree_reg, taxi_cleaned, taxi_labels,\n",
    "                              scoring=\"neg_mean_squared_error\", cv=10)\n",
    "display_scores(tree_scores)"
   ]
  },
  {
   "cell_type": "code",
   "execution_count": 19,
   "metadata": {},
   "outputs": [
    {
     "data": {
      "text/plain": [
       "{'max_depth': 5}"
      ]
     },
     "execution_count": 19,
     "metadata": {},
     "output_type": "execute_result"
    }
   ],
   "source": [
    "from sklearn.model_selection import GridSearchCV\n",
    "\n",
    "param_grid =[\n",
    "    {'max_depth': [3, 5, 10]},\n",
    "]\n",
    "\n",
    "tree_reg = DecisionTreeRegressor()\n",
    "tree_grid_search = GridSearchCV(tree_reg, param_grid, cv=5, scoring='neg_mean_squared_error')\n",
    "\n",
    "tree_grid_search.fit(taxi_cleaned, taxi_labels)\n",
    "\n",
    "tree_grid_search.best_params_"
   ]
  },
  {
   "cell_type": "code",
   "execution_count": 20,
   "metadata": {},
   "outputs": [
    {
     "name": "stdout",
     "output_type": "stream",
     "text": [
      "5208.92988043 {'max_depth': 3}\n",
      "5207.40653419 {'max_depth': 5}\n",
      "5474.82326864 {'max_depth': 10}\n"
     ]
    }
   ],
   "source": [
    "cvres = tree_grid_search.cv_results_\n",
    "for mean_score, params in zip(cvres['mean_test_score'], cvres['params']):\n",
    "    print(np.sqrt(-mean_score), params)"
   ]
  },
  {
   "cell_type": "code",
   "execution_count": null,
   "metadata": {
    "collapsed": true
   },
   "outputs": [],
   "source": []
  }
 ],
 "metadata": {
  "kernelspec": {
   "display_name": "Python 3",
   "language": "python",
   "name": "python3"
  },
  "language_info": {
   "codemirror_mode": {
    "name": "ipython",
    "version": 3
   },
   "file_extension": ".py",
   "mimetype": "text/x-python",
   "name": "python",
   "nbconvert_exporter": "python",
   "pygments_lexer": "ipython3",
   "version": "3.6.0b4"
  }
 },
 "nbformat": 4,
 "nbformat_minor": 2
}
